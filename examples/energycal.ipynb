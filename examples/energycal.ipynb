{
 "cells": [
  {
   "cell_type": "markdown",
   "metadata": {},
   "source": [
    "# Energy calibration examples"
   ]
  },
  {
   "cell_type": "code",
   "execution_count": 1,
   "metadata": {
    "ExecuteTime": {
     "end_time": "2021-03-19T19:11:36.818372Z",
     "start_time": "2021-03-19T19:11:36.815199Z"
    }
   },
   "outputs": [],
   "source": [
    "import matplotlib.pyplot as plt\n",
    "\n",
    "import becquerel as bq\n",
    "\n",
    "%matplotlib inline"
   ]
  },
  {
   "cell_type": "markdown",
   "metadata": {},
   "source": [
    "Let's load an HPGe spectrum from a file and apply a calibration. This file will generate a warning because its calibration is invalid."
   ]
  },
  {
   "cell_type": "code",
   "execution_count": 2,
   "metadata": {
    "ExecuteTime": {
     "end_time": "2021-03-19T19:11:37.106938Z",
     "start_time": "2021-03-19T19:11:37.085123Z"
    }
   },
   "outputs": [
    {
     "name": "stdout",
     "output_type": "stream",
     "text": [
      "SpeFile: Reading file ../tests/samples/digibase_5min_30_1.spe\n"
     ]
    },
    {
     "name": "stderr",
     "output_type": "stream",
     "text": [
      "becquerel/parsers/spectrum_file.py:137: SpectrumFileParsingWarning: Spectrum will be initialized without an energy calibration; invalid calibration, energies not monotonically increasing.\n",
      "  warnings.warn(\n"
     ]
    }
   ],
   "source": [
    "spec = bq.Spectrum.from_file(\"../tests/samples/digibase_5min_30_1.spe\")"
   ]
  },
  {
   "cell_type": "markdown",
   "metadata": {},
   "source": [
    "Did an energy calibration get loaded from the file?"
   ]
  },
  {
   "cell_type": "code",
   "execution_count": 3,
   "metadata": {
    "ExecuteTime": {
     "end_time": "2021-03-19T19:11:37.376978Z",
     "start_time": "2021-03-19T19:11:37.373454Z"
    }
   },
   "outputs": [
    {
     "data": {
      "text/plain": [
       "False"
      ]
     },
     "execution_count": 3,
     "metadata": {},
     "output_type": "execute_result"
    }
   ],
   "source": [
    "spec.is_calibrated"
   ]
  },
  {
   "cell_type": "markdown",
   "metadata": {},
   "source": [
    "Let's take a look at the spectrum. We happen to know that this spectrum contains background, Cesium-137, and Cobalt-60."
   ]
  },
  {
   "cell_type": "code",
   "execution_count": 4,
   "metadata": {
    "ExecuteTime": {
     "end_time": "2021-03-19T19:11:37.981624Z",
     "start_time": "2021-03-19T19:11:37.614442Z"
    }
   },
   "outputs": [
    {
     "data": {
      "image/png": "[encoded data removed]",
      "text/plain": [
       "<Figure size 432x288 with 1 Axes>"
      ]
     },
     "metadata": {
      "needs_background": "light"
     },
     "output_type": "display_data"
    }
   ],
   "source": [
    "spec.plot(xmode=\"channel\", yscale=\"log\")\n",
    "plt.xlim(0, 450);"
   ]
  },
  {
   "cell_type": "markdown",
   "metadata": {},
   "source": [
    "For any calibration, we will need to determine the centroids of peaks of known energies. In this spectrum, the 662 keV line is around channel 110, the 1460 keV line is around channel 230, and the 2614 keV line is around channel 400. Here is a simple way of finding those peaks by finding the maximum channel in those regions, although better practice would be to fit a function to the line regions."
   ]
  },
  {
   "cell_type": "code",
   "execution_count": 5,
   "metadata": {
    "ExecuteTime": {
     "end_time": "2021-03-19T19:10:43.167519Z",
     "start_time": "2021-03-19T19:10:42.773432Z"
    }
   },
   "outputs": [
    {
     "name": "stderr",
     "output_type": "stream",
     "text": [
      "becquerel/core/spectrum.py:399: DeprecationWarning: channels is deprecated terminology and will be removed in a future release. Use bin_indices instead.\n",
      "  warnings.warn(\n"
     ]
    },
    {
     "name": "stdout",
     "output_type": "stream",
     "text": [
      "[108, 227, 401]\n"
     ]
    },
    {
     "data": {
      "image/png": "[encoded data removed]",
      "text/plain": [
       "<Figure size 432x288 with 1 Axes>"
      ]
     },
     "metadata": {
      "needs_background": "light"
     },
     "output_type": "display_data"
    }
   ],
   "source": [
    "energies = [661.7, 1460.8, 2614.5]\n",
    "channels = []\n",
    "ch_ranges = [(100, 120), (220, 240), (380, 420)]\n",
    "for ch_min, ch_max in ch_ranges:\n",
    "    ch_range = (ch_min <= spec.channels) & (spec.channels <= ch_max)\n",
    "    chans = spec.channels[ch_range]\n",
    "    counts = spec.counts[ch_range]\n",
    "    ch_peak = chans[counts == counts.max()][0]\n",
    "    channels.append(ch_peak)\n",
    "print(channels)\n",
    "\n",
    "spec.plot(xmode=\"channel\", yscale=\"log\")\n",
    "plt.xlim(0, 450)\n",
    "plt.vlines(channels, *plt.gca().get_ylim(), color=\"red\", label=\"Calibration lines\")\n",
    "plt.legend();"
   ]
  },
  {
   "cell_type": "markdown",
   "metadata": {},
   "source": [
    "## Linear energy calibration example\n",
    "\n",
    "One can instantiate a `Calibration` in multiple ways, please see the calibrations notebook for more details.\n",
    "\n",
    "Let's create a linear calibration fit to the calibration points:"
   ]
  },
  {
   "cell_type": "code",
   "execution_count": 6,
   "metadata": {
    "ExecuteTime": {
     "end_time": "2021-03-19T19:10:43.171181Z",
     "start_time": "2021-03-19T19:10:43.168860Z"
    }
   },
   "outputs": [],
   "source": [
    "cal = bq.Calibration(\"p[0] + p[1] * x\", [0, 1])\n",
    "cal.fit_points(channels, energies)"
   ]
  },
  {
   "cell_type": "markdown",
   "metadata": {},
   "source": [
    "The coefficients are automatically fit to those points:"
   ]
  },
  {
   "cell_type": "code",
   "execution_count": 7,
   "metadata": {
    "ExecuteTime": {
     "end_time": "2021-03-19T19:10:43.175291Z",
     "start_time": "2021-03-19T19:10:43.172410Z"
    }
   },
   "outputs": [
    {
     "data": {
      "text/plain": [
       "array([-55.48931786,   6.66232059])"
      ]
     },
     "execution_count": 7,
     "metadata": {},
     "output_type": "execute_result"
    }
   ],
   "source": [
    "cal.params"
   ]
  },
  {
   "cell_type": "markdown",
   "metadata": {},
   "source": [
    "Sometimes one may want to include the point (0, 0) in the calibration to make the calibration pass closer to the origin:"
   ]
  },
  {
   "cell_type": "code",
   "execution_count": 8,
   "metadata": {
    "ExecuteTime": {
     "end_time": "2021-03-19T19:10:43.180757Z",
     "start_time": "2021-03-19T19:10:43.177260Z"
    }
   },
   "outputs": [
    {
     "data": {
      "text/plain": [
       "array([-55.48931736,   6.66232059])"
      ]
     },
     "execution_count": 8,
     "metadata": {},
     "output_type": "execute_result"
    }
   ],
   "source": [
    "cal.fit_points([0, *channels], [0, *energies])\n",
    "cal.params"
   ]
  },
  {
   "cell_type": "code",
   "execution_count": 9,
   "metadata": {
    "ExecuteTime": {
     "end_time": "2021-03-19T19:10:53.847291Z",
     "start_time": "2021-03-19T19:10:53.664354Z"
    }
   },
   "outputs": [
    {
     "data": {
      "image/png": "[encoded data removed]",
      "text/plain": [
       "<Figure size 432x288 with 2 Axes>"
      ]
     },
     "metadata": {
      "needs_background": "light"
     },
     "output_type": "display_data"
    }
   ],
   "source": [
    "fig, ax = plt.subplots(2, sharex=True)\n",
    "cal.plot(ax=ax)"
   ]
  },
  {
   "cell_type": "markdown",
   "metadata": {},
   "source": [
    "Here is a calibration instantiated using coefficients:"
   ]
  },
  {
   "cell_type": "code",
   "execution_count": 10,
   "metadata": {
    "ExecuteTime": {
     "end_time": "2021-03-19T19:10:57.520390Z",
     "start_time": "2021-03-19T19:10:57.516727Z"
    }
   },
   "outputs": [
    {
     "data": {
      "text/plain": [
       "array([-55.489 ,   6.6612])"
      ]
     },
     "execution_count": 10,
     "metadata": {},
     "output_type": "execute_result"
    }
   ],
   "source": [
    "cal = bq.Calibration.from_linear(\n",
    "    [-55.489, 6.6612], domain=(0, 1e4), rng=(-100, 1e5)\n",
    ")  # need to set range since calibration goes negative\n",
    "cal.params"
   ]
  },
  {
   "cell_type": "markdown",
   "metadata": {},
   "source": [
    "The calibration can be applied to our `Spectrum` to generate energies from channels:"
   ]
  },
  {
   "cell_type": "code",
   "execution_count": 11,
   "metadata": {
    "ExecuteTime": {
     "end_time": "2021-03-19T19:10:58.466107Z",
     "start_time": "2021-03-19T19:10:58.462281Z"
    }
   },
   "outputs": [
    {
     "data": {
      "text/plain": [
       "True"
      ]
     },
     "execution_count": 11,
     "metadata": {},
     "output_type": "execute_result"
    }
   ],
   "source": [
    "spec.apply_calibration(cal)\n",
    "spec.is_calibrated"
   ]
  },
  {
   "cell_type": "markdown",
   "metadata": {},
   "source": [
    "Now we should be able to plot the spectrum and see that the Co-60 lines are at the correct energies:"
   ]
  },
  {
   "cell_type": "code",
   "execution_count": 12,
   "metadata": {
    "ExecuteTime": {
     "end_time": "2021-03-19T19:10:59.834810Z",
     "start_time": "2021-03-19T19:10:59.469452Z"
    }
   },
   "outputs": [
    {
     "data": {
      "image/png": "[encoded data removed]",
      "text/plain": [
       "<Figure size 432x288 with 1 Axes>"
      ]
     },
     "metadata": {
      "needs_background": "light"
     },
     "output_type": "display_data"
    }
   ],
   "source": [
    "spec.plot(xmode=\"energy\", yscale=\"log\")\n",
    "plt.vlines(energies, *plt.gca().get_ylim(), color=\"red\", label=\"Calibration lines\")\n",
    "plt.vlines([1173, 1333], *plt.gca().get_ylim(), color=\"green\", label=\"Other lines\")\n",
    "plt.xlim(0, 2800)\n",
    "plt.legend();"
   ]
  },
  {
   "cell_type": "code",
   "execution_count": 13,
   "metadata": {
    "ExecuteTime": {
     "end_time": "2021-03-19T19:11:00.086945Z",
     "start_time": "2021-03-19T19:10:59.964227Z"
    }
   },
   "outputs": [
    {
     "data": {
      "image/png": "[encoded data removed]",
      "text/plain": [
       "<Figure size 432x288 with 1 Axes>"
      ]
     },
     "metadata": {
      "needs_background": "light"
     },
     "output_type": "display_data"
    }
   ],
   "source": [
    "fig, ax = plt.subplots()\n",
    "cal.plot(ax=ax)"
   ]
  },
  {
   "cell_type": "code",
   "execution_count": null,
   "metadata": {},
   "outputs": [],
   "source": []
  }
 ],
 "metadata": {
  "kernelspec": {
   "display_name": "Python 3 (ipykernel)",
   "language": "python",
   "name": "python3"
  },
  "language_info": {
   "codemirror_mode": {
    "name": "ipython",
    "version": 3
   },
   "file_extension": ".py",
   "mimetype": "text/x-python",
   "name": "python",
   "nbconvert_exporter": "python",
   "pygments_lexer": "ipython3",
   "version": "3.8.10"
  }
 },
 "nbformat": 4,
 "nbformat_minor": 1
}
