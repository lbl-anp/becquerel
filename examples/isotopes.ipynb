{
 "cells": [
  {
   "cell_type": "markdown",
   "metadata": {},
   "source": [
    "# `Isotope` and `IsotopeQuantity` examples\n",
    "\n",
    "First, some imports:"
   ]
  },
  {
   "cell_type": "code",
   "execution_count": 1,
   "metadata": {},
   "outputs": [],
   "source": [
    "from becquerel.tools import Isotope, IsotopeQuantity, NeutronIrradiation\n",
    "import datetime"
   ]
  },
  {
   "cell_type": "markdown",
   "metadata": {},
   "source": [
    "## Isotope string formatting and properties with `Isotope`\n",
    "\n",
    "Isotopes can be instantiated in any of a number of ways:"
   ]
  },
  {
   "cell_type": "code",
   "execution_count": 2,
   "metadata": {},
   "outputs": [
    {
     "name": "stdout",
     "output_type": "stream",
     "text": [
      "Cs-137 Cs-137 Cs-137 Cs-137 Cs-137\n",
      "True\n"
     ]
    }
   ],
   "source": [
    "i1 = Isotope('Cs-137')\n",
    "i2 = Isotope('137CS')\n",
    "i3 = Isotope('Cs', 137)\n",
    "i4 = Isotope('Cesium-137')\n",
    "i5 = Isotope('137CAESIUM')\n",
    "print(i1, i2, i3, i4, i5)\n",
    "print(i1 == i2 == i3 == i4 == i5)"
   ]
  },
  {
   "cell_type": "markdown",
   "metadata": {},
   "source": [
    "Isotopes have a string format method:"
   ]
  },
  {
   "cell_type": "code",
   "execution_count": 3,
   "metadata": {},
   "outputs": [
    {
     "name": "stdout",
     "output_type": "stream",
     "text": [
      "Cs-137\n",
      "Cesium(Cs)-137\n"
     ]
    }
   ],
   "source": [
    "cs137 = Isotope('Cs-137')\n",
    "print(cs137)\n",
    "print('{:%n(%s)-%a%m}'.format(cs137))"
   ]
  },
  {
   "cell_type": "markdown",
   "metadata": {},
   "source": [
    "Metastable isomers can be described:"
   ]
  },
  {
   "cell_type": "code",
   "execution_count": 4,
   "metadata": {},
   "outputs": [
    {
     "name": "stdout",
     "output_type": "stream",
     "text": [
      "Tc-99m\n",
      "Technetium-99m\n",
      "Hf-178m2\n"
     ]
    }
   ],
   "source": [
    "tc99m = Isotope('Tc-99m')\n",
    "print(tc99m)\n",
    "print('{:%n-%a%m}'.format(tc99m))\n",
    "hf178m2 = Isotope('Hf', 178, 'm2')\n",
    "print(hf178m2)"
   ]
  },
  {
   "cell_type": "markdown",
   "metadata": {},
   "source": [
    "Finally, isotope properties such as half-life and natural abundance are available:"
   ]
  },
  {
   "cell_type": "code",
   "execution_count": 5,
   "metadata": {},
   "outputs": [
    {
     "name": "stdout",
     "output_type": "stream",
     "text": [
      "\n",
      "Isotope: K-37\n",
      "Spin-parity: 3/2+\n",
      "Stable?      False\n",
      "Half-life:   3.885e-08 years\n",
      "Decay modes: (['EC'], [100.0])\n",
      "\n",
      "Isotope: K-38\n",
      "Spin-parity: 3+\n",
      "Stable?      False\n",
      "Half-life:   1.452e-05 years\n",
      "Decay modes: (['EC'], [100.0])\n",
      "\n",
      "Isotope: K-39\n",
      "Spin-parity: 3/2+\n",
      "Abundance:   93.26+/-0.00%\n",
      "Stable?      True\n",
      "\n",
      "Isotope: K-40\n",
      "Spin-parity: 4-\n",
      "Abundance:   0.01+/-0.00%\n",
      "Stable?      False\n",
      "Half-life:   1.248e+09 years\n",
      "Decay modes: (['EC', 'B-'], [10.72, 89.28])\n",
      "\n",
      "Isotope: K-41\n",
      "Spin-parity: 3/2+\n",
      "Abundance:   6.73+/-0.00%\n",
      "Stable?      True\n",
      "\n",
      "Isotope: K-42\n",
      "Spin-parity: 2-\n",
      "Stable?      False\n",
      "Half-life:   1.409e-03 years\n",
      "Decay modes: (['B-'], [100.0])\n",
      "\n",
      "Isotope: K-43\n",
      "Spin-parity: 3/2+\n",
      "Stable?      False\n",
      "Half-life:   2.544e-03 years\n",
      "Decay modes: (['B-'], [100.0])\n"
     ]
    }
   ],
   "source": [
    "for a in range(37, 44):\n",
    "    iso = Isotope('Potassium', a)\n",
    "    print('')\n",
    "    print('Isotope: {}'.format(iso))\n",
    "    print('Spin-parity: {}'.format(iso.j_pi))\n",
    "    if iso.abundance is not None:\n",
    "        print('Abundance:   {:.2f}%'.format(iso.abundance))\n",
    "    print('Stable?      {}'.format(iso.is_stable))\n",
    "    if not iso.is_stable:\n",
    "        print('Half-life:   {:.3e} years'.format(iso.half_life / 365.25 / 24 / 3600))\n",
    "        print('Decay modes: {}'.format(iso.decay_modes))\n"
   ]
  },
  {
   "cell_type": "markdown",
   "metadata": {
    "collapsed": true
   },
   "source": [
    "## Decay calculations with `IsotopeQuantity`\n",
    "\n",
    "Let's see how we can use the IsotopeQuantity class to work with lab check sources, starting with this Cs-137 source from the lab. How strong is it now?"
   ]
  },
  {
   "cell_type": "code",
   "execution_count": 6,
   "metadata": {},
   "outputs": [
    {
     "data": {
      "text/plain": [
       "8.00631769726367"
      ]
     },
     "execution_count": 6,
     "metadata": {},
     "output_type": "execute_result"
    }
   ],
   "source": [
    "cs137_chk = IsotopeQuantity(cs137, date='2008-01-15', uci=11.13)\n",
    "cs137_chk.uci_at()"
   ]
  },
  {
   "cell_type": "markdown",
   "metadata": {},
   "source": [
    "In fact, we can input an inventory of sources and easily see what's still active, without looking up half lives. The isotopes will automatically be created with the `Isotope` class if they are given as strings."
   ]
  },
  {
   "cell_type": "code",
   "execution_count": 7,
   "metadata": {},
   "outputs": [
    {
     "name": "stdout",
     "output_type": "stream",
     "text": [
      "Ba-133: 4.004 uCi\n",
      "Cd-109: 0.004 uCi\n",
      "Co-57: 0.000 uCi\n",
      "Co-60: 1.431 uCi\n",
      "Mn-54: 0.000 uCi\n",
      "Na-22: 0.226 uCi\n"
     ]
    }
   ],
   "source": [
    "ba133_chk = IsotopeQuantity('ba133', date='2008-01-15', uci=10.24)\n",
    "cd109_chk = IsotopeQuantity('cd109', date='2008-01-15', uci=10.3)\n",
    "co57_chk = IsotopeQuantity('co57', date='2008-01-15', uci=11.21)\n",
    "co60_chk = IsotopeQuantity('co60', date='2008-01-15', uci=9.38)\n",
    "mn54_chk = IsotopeQuantity('mn54', date='2008-01-15', uci=9.03)\n",
    "na22_chk = IsotopeQuantity('na22', date='2008-01-15', uci=10.21)\n",
    "\n",
    "for chk in (ba133_chk, cd109_chk, co57_chk, co60_chk, mn54_chk, na22_chk):\n",
    "    print('{}: {:.3f} uCi'.format(chk.isotope, chk.uci_at()))"
   ]
  },
  {
   "cell_type": "markdown",
   "metadata": {},
   "source": [
    "There are a variety of ways to specify a source activity: Bq, number of atoms, or grams."
   ]
  },
  {
   "cell_type": "code",
   "execution_count": 8,
   "metadata": {},
   "outputs": [
    {
     "name": "stdout",
     "output_type": "stream",
     "text": [
      "37000.0 Bq of Co-60 (at 2017-03-16 14:00:00)\n",
      "73926311.7915635 Bq of K-40 (at 2022-05-02 14:53:32.265827)\n",
      "4104.821259246285 Bq of U-238 (at 2022-05-02 14:53:32.272388)\n"
     ]
    }
   ],
   "source": [
    "print(IsotopeQuantity('co60', date='2017-03-16 14:00:00', bq=3.7e4))\n",
    "print(IsotopeQuantity('k40', date=datetime.datetime.now(), atoms=4.2e24))\n",
    "print(IsotopeQuantity('u238', g=0.33))"
   ]
  },
  {
   "cell_type": "markdown",
   "metadata": {},
   "source": [
    "If the `date` argument is not specified, the reference date defaults to `datetime.datetime.now()`.\n",
    "\n",
    "Of course, we can check activities at other times too, and check other quantities."
   ]
  },
  {
   "cell_type": "code",
   "execution_count": 9,
   "metadata": {},
   "outputs": [
    {
     "data": {
      "text/plain": [
       "3.8317515981908064"
      ]
     },
     "execution_count": 9,
     "metadata": {},
     "output_type": "execute_result"
    }
   ],
   "source": [
    "co60_chk.uci_at('2014-11-05')"
   ]
  },
  {
   "cell_type": "code",
   "execution_count": 10,
   "metadata": {},
   "outputs": [
    {
     "data": {
      "text/plain": [
       "149.24053998847538"
      ]
     },
     "execution_count": 10,
     "metadata": {},
     "output_type": "execute_result"
    }
   ],
   "source": [
    "cd109_chk.bq_at()"
   ]
  },
  {
   "cell_type": "code",
   "execution_count": 11,
   "metadata": {},
   "outputs": [
    {
     "data": {
      "text/plain": [
       "1.2830528795547293e-07"
      ]
     },
     "execution_count": 11,
     "metadata": {},
     "output_type": "execute_result"
    }
   ],
   "source": [
    "cs137_chk.g_at(cs137_chk.ref_date)"
   ]
  },
  {
   "cell_type": "code",
   "execution_count": 12,
   "metadata": {},
   "outputs": [
    {
     "data": {
      "text/plain": [
       "23101885.23242553"
      ]
     },
     "execution_count": 12,
     "metadata": {},
     "output_type": "execute_result"
    }
   ],
   "source": [
    "co57_chk.atoms_at()"
   ]
  },
  {
   "cell_type": "markdown",
   "metadata": {},
   "source": [
    "We can also evaluate the number of decays in a specific time interval, or the average activity in the interval.\n",
    "\n",
    "(In the future, this will be useful for interfacing directly with a `Spectrum` object, and calibrating efficiency, for example.)"
   ]
  },
  {
   "cell_type": "code",
   "execution_count": 13,
   "metadata": {},
   "outputs": [
    {
     "data": {
      "text/plain": [
       "99595559.0625"
      ]
     },
     "execution_count": 13,
     "metadata": {},
     "output_type": "execute_result"
    }
   ],
   "source": [
    "cs137_chk.decays_from('2017-05-22 12:00:00', '2017-05-22 12:05:00')"
   ]
  },
  {
   "cell_type": "code",
   "execution_count": 14,
   "metadata": {},
   "outputs": [
    {
     "data": {
      "text/plain": [
       "8.972572888513515"
      ]
     },
     "execution_count": 14,
     "metadata": {},
     "output_type": "execute_result"
    }
   ],
   "source": [
    "cs137_chk.uci_from('2017-05-22 12:00:00', '2017-05-22 12:05:00')"
   ]
  },
  {
   "cell_type": "markdown",
   "metadata": {
    "collapsed": true
   },
   "source": [
    "Finally, we can also calculate times when the source will have decayed to a given level:"
   ]
  },
  {
   "cell_type": "code",
   "execution_count": 15,
   "metadata": {},
   "outputs": [
    {
     "name": "stdout",
     "output_type": "stream",
     "text": [
      "2112-08-12 22:32:16.007576\n"
     ]
    }
   ],
   "source": [
    "print(cs137_chk.time_when(uci=1))"
   ]
  },
  {
   "cell_type": "markdown",
   "metadata": {},
   "source": [
    "## Calculating activations with `NeutronIrradiation`\n",
    "\n",
    "Currently, capture cross sections are not scraped from the web, so for now they must be input by hand. \n",
    "\n",
    "Still, `NeutronIrradiation` can make our life easier."
   ]
  },
  {
   "cell_type": "code",
   "execution_count": 16,
   "metadata": {},
   "outputs": [
    {
     "name": "stdout",
     "output_type": "stream",
     "text": [
      "310000000000.0 n/cm2/s from 2017-04-30 10:32:00 to 2017-04-30 11:32:00\n"
     ]
    }
   ],
   "source": [
    "irradiation_start = '2017-04-30 10:32:00'\n",
    "irradiation_stop = '2017-04-30 11:32:00'\n",
    "flux = 3.1e11\n",
    "ni = NeutronIrradiation(irradiation_start, irradiation_stop, n_cm2_s=flux)\n",
    "print(ni)"
   ]
  },
  {
   "cell_type": "markdown",
   "metadata": {},
   "source": [
    "Note that timestamps can be specified as strings (which are parsed with `dateutil`) or `datetime.datetime` objects.\n",
    "\n",
    "We can calculate how much of a sample will be activated:"
   ]
  },
  {
   "cell_type": "code",
   "execution_count": 17,
   "metadata": {},
   "outputs": [
    {
     "name": "stdout",
     "output_type": "stream",
     "text": [
      "11804946.779552134 Bq of Na-24 (at 2017-04-30 11:32:00)\n"
     ]
    }
   ],
   "source": [
    "iso = Isotope('Na-23')\n",
    "sample = IsotopeQuantity(iso, g=0.014)\n",
    "iso2 = Isotope('Na-24')\n",
    "barns = 2.3   # making this up for now\n",
    "\n",
    "na24_qty = ni.activate(barns, initial=sample, activated=iso2)\n",
    "print(na24_qty)"
   ]
  },
  {
   "cell_type": "markdown",
   "metadata": {},
   "source": [
    "We can also use a known irradiation product quantity to back-calculate how much was in the original sample:"
   ]
  },
  {
   "cell_type": "code",
   "execution_count": 18,
   "metadata": {},
   "outputs": [
    {
     "name": "stdout",
     "output_type": "stream",
     "text": [
      "2.177625139319166e-07 g of Na-23\n"
     ]
    }
   ],
   "source": [
    "activated_qty = IsotopeQuantity(iso2, date='2017-05-01', bq=103.2)\n",
    "na23_qty = ni.activate(barns, initial=iso, activated=activated_qty)\n",
    "print(na23_qty)"
   ]
  },
  {
   "cell_type": "code",
   "execution_count": 19,
   "metadata": {},
   "outputs": [
    {
     "data": {
      "text/plain": [
       "2.177625139319166e-07"
      ]
     },
     "execution_count": 19,
     "metadata": {},
     "output_type": "execute_result"
    }
   ],
   "source": [
    "na23_qty.g_at()"
   ]
  }
 ],
 "metadata": {
  "language_info": {
   "name": "python"
  }
 },
 "nbformat": 4,
 "nbformat_minor": 1
}
