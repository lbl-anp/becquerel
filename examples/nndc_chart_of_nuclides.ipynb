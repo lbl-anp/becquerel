{
 "cells": [
  {
   "cell_type": "markdown",
   "metadata": {},
   "source": [
    "# Chart of half-lives using NNDC data\n",
    "\n",
    "Here is a screenshot of isotope half-lives from the [National Nuclear Data Center](https://www.nndc.bnl.gov/chart/reColor.jsp?newColor=t12). Let's recreate some of this chart using data retrieved from that system.\n",
    "\n",
    "<img src=\"figures/nndc_chart_halflife.png\" style=\"width: 750px;\" align=\"left\"/><img src=\"figures/nndc_chart_halflife_key.png\" style=\"width: 150px;\" align=\"left\"/>"
   ]
  },
  {
   "cell_type": "code",
   "execution_count": 1,
   "metadata": {
    "collapsed": true
   },
   "outputs": [],
   "source": [
    "import matplotlib.pyplot as plt\n",
    "import matplotlib.patches as patches\n",
    "import numpy as np\n",
    "import pandas as pd\n",
    "pd.set_option('display.width', 200)\n",
    "from becquerel.tools import nndc"
   ]
  },
  {
   "cell_type": "markdown",
   "metadata": {},
   "source": [
    "This function will provide the color scale given the half-life:"
   ]
  },
  {
   "cell_type": "code",
   "execution_count": 2,
   "metadata": {
    "collapsed": true
   },
   "outputs": [],
   "source": [
    "def colorscale_halflife(data):\n",
    "    \"\"\"Color scale to mimic NNDC's nuclear chart half-life color scale.\"\"\"\n",
    "    if len(data) == 0:\n",
    "        return 'white'\n",
    "    half_life = data['T1/2 (s)']\n",
    "    # choose the longest-lived isomer\n",
    "    half_life = max(half_life)\n",
    "    if half_life < 1e-15:\n",
    "        return '#FF9473'\n",
    "    elif half_life < 1e-7:\n",
    "        return '#F7BDDD'\n",
    "    elif half_life < 1e-6:\n",
    "        return '#FFC6A5'\n",
    "    elif half_life < 1e-5:\n",
    "        return '#FFE7C6'\n",
    "    elif half_life < 1e-4:\n",
    "        return '#FFFF9B'\n",
    "    elif half_life < 1e-3:\n",
    "        return '#FFFF0C'\n",
    "    elif half_life < 1e-2:\n",
    "        return '#E7F684'\n",
    "    elif half_life < 1e-1:\n",
    "        return '#D6EF38'\n",
    "    elif half_life < 1e0:\n",
    "        return '#ADDE63'\n",
    "    elif half_life < 1e1:\n",
    "        return '#53B552'\n",
    "    elif half_life < 1e2:\n",
    "        return '#64BDB5'\n",
    "    elif half_life < 1e3:\n",
    "        return '#63C6DE'\n",
    "    elif half_life < 1e4:\n",
    "        return '#03A5C6'\n",
    "    elif half_life < 1e5:\n",
    "        return '#0A9A94'\n",
    "    elif half_life < 1e7:\n",
    "        return '#0284A5'\n",
    "    elif half_life < 1e10:\n",
    "        return '#3152A5'\n",
    "    elif half_life < 1e15:\n",
    "        return '#29016B'\n",
    "    elif half_life > 1e15:\n",
    "        return 'black'\n",
    "    else:\n",
    "        return '#E1E1E1'"
   ]
  },
  {
   "cell_type": "code",
   "execution_count": 3,
   "metadata": {},
   "outputs": [
    {
     "data": {
      "image/png": "[encoded data removed]",
      "text/plain": [
       "<matplotlib.figure.Figure at 0x11d14e390>"
      ]
     },
     "metadata": {},
     "output_type": "display_data"
    }
   ],
   "source": [
    "Z_RANGE = (0, 25)\n",
    "N_RANGE = (0, 43)\n",
    "data = nndc.fetch_wallet_card(z_range=Z_RANGE, n_range=N_RANGE)\n",
    "\n",
    "fig1 = plt.figure(figsize=(8, 6), dpi=100)\n",
    "ax1 = fig1.add_subplot(111, aspect='equal')\n",
    "for z in range(Z_RANGE[0], Z_RANGE[1]):\n",
    "    for n in range(N_RANGE[0], N_RANGE[1]):\n",
    "        isotope = (data['Z'] == z) & (data['N'] == n)\n",
    "        if len(isotope) == 0:\n",
    "            continue\n",
    "        facecolor = colorscale_halflife(data[isotope])\n",
    "        ax1.add_patch(\n",
    "            patches.Rectangle(\n",
    "                (n - 0.5, z - 0.5), 1, 1,\n",
    "                edgecolor='white', facecolor=facecolor\n",
    "            )\n",
    "        )\n",
    "plt.xlim(N_RANGE[0] - 0.5, N_RANGE[1] - 0.5)\n",
    "plt.ylim(Z_RANGE[0] - 0.5, Z_RANGE[1] - 0.5)\n",
    "plt.xlabel('N')\n",
    "plt.ylabel('Z')\n",
    "plt.title('Half-lives')\n",
    "plt.tight_layout()\n",
    "plt.show()"
   ]
  },
  {
   "cell_type": "markdown",
   "metadata": {},
   "source": [
    "How did we do?\n",
    "\n",
    "<img src=\"figures/nndc_chart_halflife.png\" style=\"width: 750px;\" align=\"left\"/><img src=\"figures/nndc_chart_halflife_key.png\" style=\"width: 150px;\" align=\"left\"/>"
   ]
  },
  {
   "cell_type": "markdown",
   "metadata": {},
   "source": [
    "# Chart showing decay modes\n",
    "\n",
    "Let's try making the chart showing the decay mode instead. Here is the [chart from NNDC](https://www.nndc.bnl.gov/chart/reColor.jsp?newColor=dm)."
   ]
  },
  {
   "cell_type": "code",
   "execution_count": 4,
   "metadata": {
    "collapsed": true
   },
   "outputs": [],
   "source": [
    "def main_decaymode(data):\n",
    "    \"\"\"Determine the main decay mode of the isotope.\"\"\"\n",
    "    if len(data) == 0:\n",
    "        return 'None'\n",
    "    # look for a stable isomer\n",
    "    if 'STABLE' in list(data['T1/2 (txt)']):\n",
    "        return 'Stable'\n",
    "    hl = np.array(data['T1/2 (s)'])\n",
    "    if np.isinf(max(hl)):\n",
    "        return 'Stable'\n",
    "    if len(data) == 1:\n",
    "        mode = list(data['Decay Mode'])[0]\n",
    "        if mode != '':\n",
    "            return mode\n",
    "        else:\n",
    "            return 'Unknown'\n",
    "    # choose the longest-lived isomer\n",
    "    data = data[(hl == max(hl)) & np.isfinite(hl)]\n",
    "    if len(data) == 0:\n",
    "        return 'Unknown'\n",
    "    if len(data) == 1:\n",
    "        mode = list(data['Decay Mode'])[0]\n",
    "        if mode != '':\n",
    "            return mode\n",
    "        else:\n",
    "            return 'Unknown'\n",
    "    # find the decay mode with the highest branching ratio\n",
    "    br = np.array(data['Branching (%)'])\n",
    "    data2 = data[np.isfinite(br)]\n",
    "    if len(data2) == 0:\n",
    "        mode = ''.join(list(data['Decay Mode']))\n",
    "        if mode != '':\n",
    "            return mode\n",
    "        else:\n",
    "            return 'Unknown'\n",
    "    if len(data2) == 1:\n",
    "        mode = list(data2['Decay Mode'])[0]\n",
    "        if mode != '':\n",
    "            return mode\n",
    "        else:\n",
    "            return 'Unknown'\n",
    "    br = np.array(data2['Branching (%)'])\n",
    "    data3 = data2[br == max(br)]\n",
    "    if len(data3) == 0:\n",
    "        return 'Unknown'\n",
    "    if len(data3) == 1:\n",
    "        mode = list(data3['Decay Mode'])[0]\n",
    "        if mode != '':\n",
    "            return mode\n",
    "        else:\n",
    "            return 'Unknown'\n",
    "    # if we end up with multiple modes, join into one string\n",
    "    return ''.join(list(data3['Decay Mode']))\n",
    "\n",
    "\n",
    "def colorscale_decaymode(mode):\n",
    "    \"\"\"Color scale to mimic NNDC's nuclear chart decay mode color scale.\"\"\"\n",
    "    if mode == 'None':\n",
    "        return 'white'\n",
    "    elif mode == 'Stable':\n",
    "        return 'black'\n",
    "    elif 'A' in mode:\n",
    "        return '#FEFD56'\n",
    "    elif 'EC' in mode or 'B+' in mode or 'EP' in mode or 'IT' in mode:\n",
    "        return '#67C6DC'\n",
    "    elif 'N' in mode:\n",
    "        return '#9C7DBB'\n",
    "    elif 'P' in mode:\n",
    "        return '#FD9477'\n",
    "    elif 'B-' in mode:\n",
    "        return '#E68EC5'\n",
    "    elif 'SF' in mode:\n",
    "        return '#55B457'\n",
    "    else:\n",
    "        return '#E0E0E0'"
   ]
  },
  {
   "cell_type": "code",
   "execution_count": 5,
   "metadata": {},
   "outputs": [
    {
     "data": {
      "image/png": "[encoded data removed]",
      "text/plain": [
       "<matplotlib.figure.Figure at 0x11db24b00>"
      ]
     },
     "metadata": {},
     "output_type": "display_data"
    }
   ],
   "source": [
    "fig2 = plt.figure(figsize=(8, 6), dpi=100)\n",
    "ax2 = fig2.add_subplot(111, aspect='equal')\n",
    "for z in range(Z_RANGE[0], Z_RANGE[1]):\n",
    "    for n in range(N_RANGE[0], N_RANGE[1]):\n",
    "        isotope = (data['Z'] == z) & (data['N'] == n)\n",
    "        if len(isotope) == 0:\n",
    "            continue\n",
    "        mode = main_decaymode(data[isotope])\n",
    "        facecolor = colorscale_decaymode(mode)\n",
    "        if facecolor == '#E0E0E0' and mode != 'Unknown':\n",
    "            print('Z = {}, N = {}, mode = {}'.format(z, n, mode))\n",
    "        ax2.add_patch(\n",
    "            patches.Rectangle(\n",
    "                (n - 0.5, z - 0.5), 1, 1,\n",
    "                edgecolor='white', facecolor=facecolor\n",
    "            )\n",
    "        )\n",
    "plt.xlim(N_RANGE[0] - 0.5, N_RANGE[1] - 0.5)\n",
    "plt.ylim(Z_RANGE[0] - 0.5, Z_RANGE[1] - 0.5)\n",
    "plt.xlabel('N')\n",
    "plt.ylabel('Z')\n",
    "plt.title('Decay modes')\n",
    "plt.tight_layout()\n",
    "plt.show()"
   ]
  },
  {
   "cell_type": "markdown",
   "metadata": {
    "collapsed": true
   },
   "source": [
    "How did we do? Pretty close.\n",
    "\n",
    "<img src=\"figures/nndc_chart_decay.png\" style=\"width: 750px;\" align=\"left\"/><img src=\"figures/nndc_chart_decay_key.png\" style=\"width: 90px;\" align=\"left\"/>"
   ]
  },
  {
   "cell_type": "code",
   "execution_count": null,
   "metadata": {
    "collapsed": true
   },
   "outputs": [],
   "source": []
  }
 ],
 "metadata": {
  "kernelspec": {
   "display_name": "Python 3",
   "language": "python",
   "name": "python3"
  },
  "language_info": {
   "codemirror_mode": {
    "name": "ipython",
    "version": 3
   },
   "file_extension": ".py",
   "mimetype": "text/x-python",
   "name": "python",
   "nbconvert_exporter": "python",
   "pygments_lexer": "ipython3",
   "version": "3.6.1"
  }
 },
 "nbformat": 4,
 "nbformat_minor": 2
}
