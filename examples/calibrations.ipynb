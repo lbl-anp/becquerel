{
 "cells": [
  {
   "cell_type": "markdown",
   "metadata": {},
   "source": [
    "# Calibration examples"
   ]
  },
  {
   "cell_type": "code",
   "execution_count": 1,
   "metadata": {},
   "outputs": [],
   "source": [
    "import warnings\n",
    "\n",
    "import matplotlib.pyplot as plt\n",
    "import numpy as np\n",
    "\n",
    "from becquerel import Calibration\n",
    "\n",
    "%matplotlib inline\n",
    "warnings.filterwarnings(\"ignore\", category=DeprecationWarning)"
   ]
  },
  {
   "cell_type": "markdown",
   "metadata": {},
   "source": [
    "The `Calibration` class is very general -- it is a function of a scalar that results in a scalar output. The function should be fully described by a formula and parametrized by a list of scalar parameters (`\"p\"`).\n",
    "\n",
    "Here is what a linear calibration looks like:"
   ]
  },
  {
   "cell_type": "code",
   "execution_count": 2,
   "metadata": {},
   "outputs": [
    {
     "name": "stdout",
     "output_type": "stream",
     "text": [
      "expression:\n",
      "    p[0] + p[1] * x\n",
      "params (p):\n",
      "    [5.   0.15]\n",
      "domain:\n",
      "    (0, 100000.0)\n",
      "range:\n",
      "    (0, 100000.0)\n",
      "\n"
     ]
    },
    {
     "data": {
      "text/plain": [
       "\"Calibration('p[0] + p[1] * x', array([5.  , 0.15]), domain=(0, 100000.0), rng=(0, 100000.0))\""
      ]
     },
     "execution_count": 2,
     "metadata": {},
     "output_type": "execute_result"
    }
   ],
   "source": [
    "cal = Calibration(\"p[0] + p[1] * x\", [5.0, 0.15])\n",
    "print(cal)\n",
    "repr(cal)"
   ]
  },
  {
   "cell_type": "markdown",
   "metadata": {},
   "source": [
    "`Calibration`s are callable like functions, so `cal(x)` will return its value at `x`:"
   ]
  },
  {
   "cell_type": "code",
   "execution_count": 3,
   "metadata": {},
   "outputs": [
    {
     "data": {
      "text/plain": [
       "6.5"
      ]
     },
     "execution_count": 3,
     "metadata": {},
     "output_type": "execute_result"
    }
   ],
   "source": [
    "cal(10)"
   ]
  },
  {
   "cell_type": "markdown",
   "metadata": {},
   "source": [
    "Often you may not know the function parameters ahead of time, but will want to fit the function to a set of calibration points. Here is how you fit an already-instantiated `Calibration`:"
   ]
  },
  {
   "cell_type": "code",
   "execution_count": 4,
   "metadata": {},
   "outputs": [
    {
     "name": "stdout",
     "output_type": "stream",
     "text": [
      "expression:\n",
      "    p[0] + p[1] * x\n",
      "params (p):\n",
      "    [0.18535127 0.10233184]\n",
      "domain:\n",
      "    (0, 100000.0)\n",
      "range:\n",
      "    (0, 100000.0)\n",
      "calibration points (x):\n",
      "    [ 100.  500. 1000. 1500. 2000. 3000.]\n",
      "calibration points (y):\n",
      "    [ 10.  50. 105. 160. 195. 310.]\n",
      "calibration weights:\n",
      "    [1. 1. 1. 1. 1. 1.]\n",
      "\n"
     ]
    }
   ],
   "source": [
    "points_x = [100, 500, 1000, 1500, 2000, 3000]\n",
    "points_y = [10, 50, 105, 160, 195, 310]\n",
    "\n",
    "cal2 = cal.copy()\n",
    "cal2.set_points(points_x, points_y)\n",
    "cal2.fit()\n",
    "print(cal2)"
   ]
  },
  {
   "cell_type": "markdown",
   "metadata": {},
   "source": [
    "Shorter version:"
   ]
  },
  {
   "cell_type": "code",
   "execution_count": 5,
   "metadata": {},
   "outputs": [],
   "source": [
    "cal2.fit_points(points_x, points_y)"
   ]
  },
  {
   "cell_type": "markdown",
   "metadata": {},
   "source": [
    "How did we do?"
   ]
  },
  {
   "cell_type": "code",
   "execution_count": 6,
   "metadata": {},
   "outputs": [
    {
     "data": {
      "image/png": "[encoded data removed]",
      "text/plain": [
       "<Figure size 432x288 with 1 Axes>"
      ]
     },
     "metadata": {
      "needs_background": "light"
     },
     "output_type": "display_data"
    }
   ],
   "source": [
    "plt.figure()\n",
    "plt.plot(points_x, points_y, \"ro\", label=\"Calibration points\")\n",
    "x_fine = np.linspace(min(points_x), max(points_x), num=1000)\n",
    "plt.plot(x_fine, cal(x_fine), label=\"Calibration before fit\")\n",
    "plt.plot(x_fine, cal2(x_fine), label=\"Fitted calibration\")\n",
    "plt.xlabel(\"x\")\n",
    "plt.ylabel(\"y\")\n",
    "plt.legend()\n",
    "plt.show()"
   ]
  },
  {
   "cell_type": "markdown",
   "metadata": {},
   "source": [
    "You can also perform the fit while instantiating the object using `from_points`:"
   ]
  },
  {
   "cell_type": "code",
   "execution_count": 7,
   "metadata": {},
   "outputs": [
    {
     "name": "stdout",
     "output_type": "stream",
     "text": [
      "expression:\n",
      "    p[0] + p[1] * x\n",
      "params (p):\n",
      "    [0.18535127 0.10233184]\n",
      "domain:\n",
      "    (0, 100000.0)\n",
      "range:\n",
      "    (0, 100000.0)\n",
      "calibration points (x):\n",
      "    [ 100.  500. 1000. 1500. 2000. 3000.]\n",
      "calibration points (y):\n",
      "    [ 10.  50. 105. 160. 195. 310.]\n",
      "calibration weights:\n",
      "    [1. 1. 1. 1. 1. 1.]\n",
      "\n"
     ]
    }
   ],
   "source": [
    "cal3 = Calibration.from_points(\n",
    "    \"p[0] + p[1] * x\", points_x, points_y, params0=[5.0, 0.15]\n",
    ")\n",
    "print(cal3)"
   ]
  },
  {
   "cell_type": "markdown",
   "metadata": {},
   "source": [
    "This code should produce an equivalent calibration as `fit()` does:"
   ]
  },
  {
   "cell_type": "code",
   "execution_count": 8,
   "metadata": {},
   "outputs": [
    {
     "data": {
      "text/plain": [
       "True"
      ]
     },
     "execution_count": 8,
     "metadata": {},
     "output_type": "execute_result"
    }
   ],
   "source": [
    "cal2 == cal3"
   ]
  },
  {
   "cell_type": "markdown",
   "metadata": {},
   "source": [
    "# Auxiliary parameters\n",
    "\n",
    "If your calibration function requires auxiliary parameters that will not be fit, they can be provided as `aux_params` and referred to in the expression as `\"a\"`:"
   ]
  },
  {
   "cell_type": "code",
   "execution_count": 9,
   "metadata": {},
   "outputs": [
    {
     "name": "stdout",
     "output_type": "stream",
     "text": [
      "expression:\n",
      "    a[0] + p[0] + p[1] * (x / a[1])\n",
      "params (p):\n",
      "    [5.   0.15]\n",
      "auxiliary params (a):\n",
      "    [0. 1.]\n",
      "domain:\n",
      "    (0, 100000.0)\n",
      "range:\n",
      "    (0, 100000.0)\n",
      "\n"
     ]
    }
   ],
   "source": [
    "cal = Calibration(\"a[0] + p[0] + p[1] * (x / a[1])\", [5.0, 0.15], aux_params=[0.0, 1.0])\n",
    "print(cal)"
   ]
  },
  {
   "cell_type": "markdown",
   "metadata": {},
   "source": [
    "# More complex calibration functions\n",
    "\n",
    "Calibrations can include special functions, basically anything that `asteval` can handle, and all of `numpy` and `scipy`:"
   ]
  },
  {
   "cell_type": "code",
   "execution_count": 10,
   "metadata": {},
   "outputs": [
    {
     "name": "stdout",
     "output_type": "stream",
     "text": [
      "expression:\n",
      "    p[0] + p[1] * x + p[2] * np.exp(x / p[3]) + p[4] * scipy.special.gammaln(x)\n",
      "params (p):\n",
      "    [  5   2   3 700   1]\n",
      "domain:\n",
      "    (0, 100000.0)\n",
      "range:\n",
      "    (0, 100000.0)\n",
      "\n"
     ]
    },
    {
     "data": {
      "text/plain": [
       "40.84499220833462"
      ]
     },
     "execution_count": 10,
     "metadata": {},
     "output_type": "execute_result"
    }
   ],
   "source": [
    "cal = Calibration(\n",
    "    \"p[0] + p[1] * x + p[2] * np.exp(x / p[3]) + p[4] * scipy.special.gammaln(x)\",\n",
    "    [5, 2, 3, 700, 1],\n",
    ")\n",
    "print(cal)\n",
    "cal(10)"
   ]
  },
  {
   "cell_type": "markdown",
   "metadata": {},
   "source": [
    "# Multiline expressions\n",
    "\n",
    "The `expression` used in a calibration need not be confined to a single line, it can be an entire code block so long as it references the independent variable `\"x\"` and the parameters `\"p\"` and the final statement evaluates to the value of the function. For example, the following two calibrations produce equivalent results:"
   ]
  },
  {
   "cell_type": "code",
   "execution_count": 11,
   "metadata": {},
   "outputs": [],
   "source": [
    "cal1 = Calibration(\"p[0] + p[1] * x + p[2] * x ** 2\", [5.0, 2.0, 1e-2])\n",
    "cal2 = Calibration(\n",
    "    \"\"\"\n",
    "y = p[0]\n",
    "y += p[1] * x\n",
    "y += p[2] * x ** 2\n",
    "y\"\"\",\n",
    "    [5.0, 2.0, 1e-2],\n",
    ")\n",
    "\n",
    "x = np.linspace(0, 4000, num=1000)\n",
    "assert np.allclose(cal1(x), cal2(x))"
   ]
  },
  {
   "cell_type": "markdown",
   "metadata": {},
   "source": [
    "Although their output is the same, they will not satisfy equality because the expressions differ:"
   ]
  },
  {
   "cell_type": "code",
   "execution_count": 12,
   "metadata": {},
   "outputs": [
    {
     "data": {
      "text/plain": [
       "False"
      ]
     },
     "execution_count": 12,
     "metadata": {},
     "output_type": "execute_result"
    }
   ],
   "source": [
    "cal1 == cal2"
   ]
  },
  {
   "cell_type": "markdown",
   "metadata": {},
   "source": [
    "# Special instantiation methods\n",
    "\n",
    "There are factory class methods for `Calibration` that are meant to make the process of instantiation easier for certain types of calibration functions. For example, if you want a polynomial function of some order `n`, simply use `Calibration.from_polynomial` with `n + 1` parameters:"
   ]
  },
  {
   "cell_type": "code",
   "execution_count": 13,
   "metadata": {},
   "outputs": [
    {
     "name": "stdout",
     "output_type": "stream",
     "text": [
      "expression:\n",
      "    p[0] + p[1] * x ** 1 + p[2] * x ** 2 + p[3] * x ** 3 + p[4] * x ** 4\n",
      "params (p):\n",
      "    [5 2 3 7 1]\n",
      "domain:\n",
      "    (0, 100000.0)\n",
      "range:\n",
      "    (0, 100000.0)\n",
      "\n"
     ]
    }
   ],
   "source": [
    "cal = Calibration.from_polynomial([5, 2, 3, 7, 1])\n",
    "print(cal)"
   ]
  },
  {
   "cell_type": "markdown",
   "metadata": {},
   "source": [
    "There is even a way to make a `Calibration` that interpolates between the calibration points --- the function has zero parameters since they are dictated by the points, which are stored as auxiliary parameters:"
   ]
  },
  {
   "cell_type": "code",
   "execution_count": 14,
   "metadata": {},
   "outputs": [
    {
     "name": "stdout",
     "output_type": "stream",
     "text": [
      "expression:\n",
      "    scipy.interpolate.interp1d(a[0, :], a[1, :], fill_value=\"extrapolate\")(x)\n",
      "params (p):\n",
      "    []\n",
      "auxiliary params (a):\n",
      "    [[ 100  500 1000 1500 2000 3000]\n",
      " [  10   50  105  160  195  310]]\n",
      "domain:\n",
      "    (0, 100000.0)\n",
      "range:\n",
      "    (0, 100000.0)\n",
      "\n"
     ]
    }
   ],
   "source": [
    "cal = Calibration.from_interpolation(points_x, points_y)\n",
    "print(cal)"
   ]
  },
  {
   "cell_type": "markdown",
   "metadata": {},
   "source": [
    "Here's what that looks like:"
   ]
  },
  {
   "cell_type": "code",
   "execution_count": 15,
   "metadata": {},
   "outputs": [
    {
     "data": {
      "image/png": "[encoded data removed]",
      "text/plain": [
       "<Figure size 432x288 with 1 Axes>"
      ]
     },
     "metadata": {
      "needs_background": "light"
     },
     "output_type": "display_data"
    }
   ],
   "source": [
    "plt.figure()\n",
    "plt.plot(points_x, points_y, \"ro\", label=\"Calibration points\")\n",
    "x_fine = np.linspace(0, 3500, num=1000)\n",
    "plt.plot(x_fine, cal(x_fine), label=cal.__class__.__name__)\n",
    "plt.xlabel(\"x\")\n",
    "plt.ylabel(\"y\")\n",
    "plt.legend()\n",
    "plt.show()"
   ]
  },
  {
   "cell_type": "markdown",
   "metadata": {},
   "source": [
    "# Inverse functions\n",
    "\n",
    "You can provide an inverse function expression, if available, or the calibration will numerically estimate its inverse:"
   ]
  },
  {
   "cell_type": "code",
   "execution_count": 16,
   "metadata": {},
   "outputs": [
    {
     "name": "stdout",
     "output_type": "stream",
     "text": [
      "expression:\n",
      "    p[0] + p[1] * x\n",
      "params (p):\n",
      "    [5 2]\n",
      "inv_expression:\n",
      "    (y - p[0]) / p[1]\n",
      "domain:\n",
      "    (0, 100000.0)\n",
      "range:\n",
      "    (0, 100000.0)\n",
      "\n",
      "205.0\n",
      "100.0\n"
     ]
    }
   ],
   "source": [
    "cal = Calibration(\"p[0] + p[1] * x\", [5, 2], inv_expression=\"(y - p[0]) / p[1]\")\n",
    "print(cal)\n",
    "print(cal(100.0))\n",
    "print(cal.inverse(cal(100.0)))"
   ]
  },
  {
   "cell_type": "code",
   "execution_count": 17,
   "metadata": {},
   "outputs": [
    {
     "name": "stdout",
     "output_type": "stream",
     "text": [
      "expression:\n",
      "    p[0] + p[1] * x + p[2] * x ** 2\n",
      "params (p):\n",
      "    [5.   2.   0.01]\n",
      "domain:\n",
      "    (0, 100000.0)\n",
      "range:\n",
      "    (0, 100000.0)\n",
      "\n",
      "305.0\n",
      "100.0\n"
     ]
    }
   ],
   "source": [
    "cal = Calibration(\"p[0] + p[1] * x + p[2] * x ** 2\", [5, 2, 1e-2])\n",
    "print(cal)\n",
    "print(cal(100.0))\n",
    "print(cal.inverse(cal(100.0)))"
   ]
  },
  {
   "cell_type": "markdown",
   "metadata": {},
   "source": [
    "# Complex calibration function\n",
    "\n",
    "This example includes the interpolation of a light yield curve using auxiliary parameters, and then the scaling of the result using calibration parameters."
   ]
  },
  {
   "cell_type": "code",
   "execution_count": 18,
   "metadata": {},
   "outputs": [],
   "source": [
    "aux = np.array(\n",
    "    [\n",
    "        [0.0, 1000, 1500, 2000],\n",
    "        [0.0, 1000, 1400, 1800],\n",
    "    ]\n",
    ")\n",
    "cal = Calibration(\n",
    "    \"\"\"\n",
    "# light yield curve\n",
    "f_x = a[0, :]\n",
    "f_y = a[1, :]\n",
    "\n",
    "# offset, gain, saturation\n",
    "c, g, s = p[0], p[1], p[2]\n",
    "z = (x - c) / (g - s * (x - c))\n",
    "\n",
    "scipy.interpolate.CubicSpline(f_x, f_y)(z)\n",
    "\"\"\",\n",
    "    [-5.0, 0.1, 1e-6],\n",
    "    aux_params=aux,\n",
    ")"
   ]
  },
  {
   "cell_type": "code",
   "execution_count": 19,
   "metadata": {},
   "outputs": [
    {
     "name": "stdout",
     "output_type": "stream",
     "text": [
      "expression:\n",
      "    # light yield curve\n",
      "    f_x = a[0, :]\n",
      "    f_y = a[1, :]\n",
      "    \n",
      "    # offset, gain, saturation\n",
      "    c, g, s = p[0], p[1], p[2]\n",
      "    z = (x - c) / (g - s * (x - c))\n",
      "    \n",
      "    scipy.interpolate.CubicSpline(f_x, f_y)(z)\n",
      "params (p):\n",
      "    [-5.e+00  1.e-01  1.e-06]\n",
      "auxiliary params (a):\n",
      "    [[   0. 1000. 1500. 2000.]\n",
      " [   0. 1000. 1400. 1800.]]\n",
      "domain:\n",
      "    (0, 100000.0)\n",
      "range:\n",
      "    (0, 100000.0)\n",
      "\n"
     ]
    },
    {
     "data": {
      "text/plain": [
       "100000.0"
      ]
     },
     "execution_count": 19,
     "metadata": {},
     "output_type": "execute_result"
    }
   ],
   "source": [
    "print(cal)\n",
    "cal(1500)"
   ]
  },
  {
   "cell_type": "code",
   "execution_count": 20,
   "metadata": {},
   "outputs": [
    {
     "name": "stdout",
     "output_type": "stream",
     "text": [
      "expression:\n",
      "    # light yield curve\n",
      "    f_x = a[0, :]\n",
      "    f_y = a[1, :]\n",
      "    \n",
      "    # offset, gain, saturation\n",
      "    c, g, s = p[0], p[1], p[2]\n",
      "    z = (x - c) / (g - s * (x - c))\n",
      "    \n",
      "    scipy.interpolate.CubicSpline(f_x, f_y)(z)\n",
      "params (p):\n",
      "    [-9.33001289e+00  1.22493076e+01  3.07212967e-04]\n",
      "auxiliary params (a):\n",
      "    [[   0. 1000. 1500. 2000.]\n",
      " [   0. 1000. 1400. 1800.]]\n",
      "domain:\n",
      "    (0, 100000.0)\n",
      "range:\n",
      "    (0, 100000.0)\n",
      "calibration points (x):\n",
      "    [ 100.  500. 1000. 1500. 2000. 3000.]\n",
      "calibration points (y):\n",
      "    [ 10.  50. 105. 160. 195. 310.]\n",
      "calibration weights:\n",
      "    [1. 1. 1. 1. 1. 1.]\n",
      "\n"
     ]
    }
   ],
   "source": [
    "cal.add_points(points_x, points_y)\n",
    "cal.fit(bounds=[(-10.0, 1e-3, 0), (10.0, 1e2, 1e-1)])\n",
    "print(cal)"
   ]
  },
  {
   "cell_type": "code",
   "execution_count": 21,
   "metadata": {},
   "outputs": [
    {
     "data": {
      "image/png": "[encoded data removed]",
      "text/plain": [
       "<Figure size 432x288 with 1 Axes>"
      ]
     },
     "metadata": {
      "needs_background": "light"
     },
     "output_type": "display_data"
    }
   ],
   "source": [
    "plt.figure()\n",
    "plt.plot(points_x, points_y, \"ro\", label=\"Calibration points\")\n",
    "x_fine = np.linspace(min(points_x), max(points_x), num=1000)\n",
    "plt.plot(x_fine, cal(x_fine), label=cal.__class__.__name__)\n",
    "plt.xlabel(\"x\")\n",
    "plt.ylabel(\"y\")\n",
    "plt.legend()\n",
    "plt.show()"
   ]
  },
  {
   "cell_type": "markdown",
   "metadata": {},
   "source": [
    "# HDF5 I/O\n",
    "\n",
    "Any `Calibration` can be written to and read from HDF5:"
   ]
  },
  {
   "cell_type": "code",
   "execution_count": 22,
   "metadata": {},
   "outputs": [
    {
     "name": "stdout",
     "output_type": "stream",
     "text": [
      "expression:\n",
      "    # light yield curve\n",
      "    f_x = a[0, :]\n",
      "    f_y = a[1, :]\n",
      "    \n",
      "    # offset, gain, saturation\n",
      "    c, g, s = p[0], p[1], p[2]\n",
      "    z = (x - c) / (g - s * (x - c))\n",
      "    \n",
      "    scipy.interpolate.CubicSpline(f_x, f_y)(z)\n",
      "params (p):\n",
      "    [-9.33001289e+00  1.22493076e+01  3.07212967e-04]\n",
      "auxiliary params (a):\n",
      "    [[   0. 1000. 1500. 2000.]\n",
      " [   0. 1000. 1400. 1800.]]\n",
      "domain:\n",
      "    (0, 100000.0)\n",
      "range:\n",
      "    (0, 100000.0)\n",
      "calibration points (x):\n",
      "    [ 100.  500. 1000. 1500. 2000. 3000.]\n",
      "calibration points (y):\n",
      "    [ 10.  50. 105. 160. 195. 310.]\n",
      "calibration weights:\n",
      "    [1. 1. 1. 1. 1. 1.]\n",
      "\n"
     ]
    }
   ],
   "source": [
    "cal.write(\"test.h5\")\n",
    "print(cal)"
   ]
  },
  {
   "cell_type": "code",
   "execution_count": 23,
   "metadata": {},
   "outputs": [
    {
     "name": "stdout",
     "output_type": "stream",
     "text": [
      "expression:\n",
      "    # light yield curve\n",
      "    f_x = a[0, :]\n",
      "    f_y = a[1, :]\n",
      "    \n",
      "    # offset, gain, saturation\n",
      "    c, g, s = p[0], p[1], p[2]\n",
      "    z = (x - c) / (g - s * (x - c))\n",
      "    \n",
      "    scipy.interpolate.CubicSpline(f_x, f_y)(z)\n",
      "params (p):\n",
      "    [-9.33001289e+00  1.22493076e+01  3.07212967e-04]\n",
      "auxiliary params (a):\n",
      "    [[   0. 1000. 1500. 2000.]\n",
      " [   0. 1000. 1400. 1800.]]\n",
      "domain:\n",
      "    (0.0, 100000.0)\n",
      "range:\n",
      "    (0.0, 100000.0)\n",
      "calibration points (x):\n",
      "    [ 100.  500. 1000. 1500. 2000. 3000.]\n",
      "calibration points (y):\n",
      "    [ 10.  50. 105. 160. 195. 310.]\n",
      "calibration weights:\n",
      "    [1. 1. 1. 1. 1. 1.]\n",
      "\n"
     ]
    }
   ],
   "source": [
    "cal2 = Calibration.read(\"test.h5\")\n",
    "print(cal2)"
   ]
  },
  {
   "cell_type": "markdown",
   "metadata": {},
   "source": [
    "To demonstrate that `cal2` has the same information as `cal` does, we can check for equality:"
   ]
  },
  {
   "cell_type": "code",
   "execution_count": 24,
   "metadata": {},
   "outputs": [
    {
     "data": {
      "text/plain": [
       "True"
      ]
     },
     "execution_count": 24,
     "metadata": {},
     "output_type": "execute_result"
    }
   ],
   "source": [
    "cal2 == cal"
   ]
  },
  {
   "cell_type": "markdown",
   "metadata": {},
   "source": [
    "And here is what a plot of `cal2` evaluated across the domain, which is identical to `cal`'s plot above:"
   ]
  },
  {
   "cell_type": "code",
   "execution_count": 25,
   "metadata": {},
   "outputs": [
    {
     "data": {
      "image/png": "[encoded data removed]",
      "text/plain": [
       "<Figure size 432x288 with 1 Axes>"
      ]
     },
     "metadata": {
      "needs_background": "light"
     },
     "output_type": "display_data"
    }
   ],
   "source": [
    "plt.figure()\n",
    "plt.plot(points_x, points_y, \"ro\", label=\"Calibration points\")\n",
    "x_fine = np.linspace(min(points_x), max(points_x), num=1000)\n",
    "plt.plot(x_fine, cal2(x_fine), label=cal2.__class__.__name__)\n",
    "plt.xlabel(\"x\")\n",
    "plt.ylabel(\"y\")\n",
    "plt.legend()\n",
    "plt.show()"
   ]
  },
  {
   "cell_type": "code",
   "execution_count": null,
   "metadata": {},
   "outputs": [],
   "source": []
  }
 ],
 "metadata": {
  "kernelspec": {
   "display_name": "Python 3 (ipykernel)",
   "language": "python",
   "name": "python3"
  },
  "language_info": {
   "codemirror_mode": {
    "name": "ipython",
    "version": 3
   },
   "file_extension": ".py",
   "mimetype": "text/x-python",
   "name": "python",
   "nbconvert_exporter": "python",
   "pygments_lexer": "ipython3",
   "version": "3.8.10"
  }
 },
 "nbformat": 4,
 "nbformat_minor": 1
}
