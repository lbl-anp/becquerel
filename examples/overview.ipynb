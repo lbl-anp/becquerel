{
 "cells": [
  {
   "cell_type": "markdown",
   "metadata": {},
   "source": [
    "# Becquerel Overview\n",
    "\n",
    "This notebook demonstrates some of the main features and functionalities of `becquerel`:\n",
    "\n",
    "1. [`bq.Spectrum`](#1.-bq.Spectrum)\n",
    "  - [Constructor](#1.1-From-scratch)\n",
    "  - [Energy Calibration Models](#1.2-Energy-Calibration-Models)\n",
    "  - [File IO](#1.3-From-File)\n",
    "  - [Backrgound Subtraction](#1.4-Background-Subtraction)\n",
    "  - [Rebinning](#1.5-Rebinning)\n",
    "  - [Scaling](#1.6-Scaling)\n",
    "  - [Peak Finding + Auto Calibration](#1.7-Automatic-Calibration)\n",
    "1. [Nuclear-Data](#2.-Nuclear-Data)\n",
    "  - [`bq.Element`](#2.1-bq.Element)\n",
    "  - [`bq.Isotope`](#2.2-bq.Isotope)\n",
    "  - [`bq.IsotopeQuantity`](#2.3-bq.IsotopeQuantity)\n",
    "  - [`bq.materials`](#2.4-bq.materials)\n",
    "  - [`bq.nndc`](#2.5-bq.nndc)\n",
    "  - [`bq.xcom`](#2.6-bq.xcom)\n",
    "\n",
    "For more details on particular features please see the other notebooks in this directory as noted. In addition, a few practical examples of using `becquerel` are given in the [misc notebook](./misc.ipynb)"
   ]
  },
  {
   "cell_type": "code",
   "execution_count": 1,
   "metadata": {},
   "outputs": [
    {
     "name": "stdout",
     "output_type": "stream",
     "text": [
      "Populating the interactive namespace from numpy and matplotlib\n"
     ]
    }
   ],
   "source": [
    "%pylab inline\n",
    "import pandas as pd\n",
    "import becquerel as bq\n",
    "from pprint import pprint\n",
    "np.random.seed(0)"
   ]
  },
  {
   "cell_type": "markdown",
   "metadata": {},
   "source": [
    "# 1. `bq.Spectrum`\n",
    "\n",
    "The core class in `bq` is `Spectrum`. This class contains a variety of tools for handling **single spectrum** data.\n",
    "\n",
    "Further details can be found in the [spectrum notebook](./spectrum.ipynb) and [spectrum plotting notebook](./plotting.ipynb)."
   ]
  },
  {
   "cell_type": "code",
   "execution_count": 2,
   "metadata": {},
   "outputs": [],
   "source": [
    "bq.Spectrum?"
   ]
  },
  {
   "cell_type": "markdown",
   "metadata": {},
   "source": [
    "## 1.1 From scratch"
   ]
  },
  {
   "cell_type": "code",
   "execution_count": 3,
   "metadata": {},
   "outputs": [
    {
     "data": {
      "text/plain": [
       "becquerel.Spectrum\n",
       "    start_time:     None\n",
       "    stop_time:      None\n",
       "    realtime:       None\n",
       "    livetime:       60.0\n",
       "    is_calibrated:  False\n",
       "    num_bins:       100\n",
       "    gross_counts:   1000+/-33\n",
       "    gross_cps:      16.7+/-0.5\n",
       "    filename:       None"
      ]
     },
     "execution_count": 3,
     "metadata": {},
     "output_type": "execute_result"
    }
   ],
   "source": [
    "c, _ = np.histogram(np.random.poisson(50, 1000), bins=np.arange(101))\n",
    "spec = bq.Spectrum(counts=c, livetime=60.)\n",
    "spec"
   ]
  },
  {
   "cell_type": "code",
   "execution_count": 4,
   "metadata": {},
   "outputs": [
    {
     "data": {
      "image/png": "[encoded data removed]",
      "text/plain": [
       "<Figure size 432x288 with 1 Axes>"
      ]
     },
     "metadata": {
      "needs_background": "light"
     },
     "output_type": "display_data"
    }
   ],
   "source": [
    "spec.plot(xmode='channels');"
   ]
  },
  {
   "cell_type": "code",
   "execution_count": 5,
   "metadata": {},
   "outputs": [
    {
     "name": "stdout",
     "output_type": "stream",
     "text": [
      "ERROR: Spectrum is not calibrated, however x axis was requested as energy\n"
     ]
    }
   ],
   "source": [
    "try:\n",
    "    spec.plot(xmode='energy')\n",
    "except bq.PlottingError as e:\n",
    "    print('ERROR:', e)\n",
    "    plt.close('all')"
   ]
  },
  {
   "cell_type": "markdown",
   "metadata": {},
   "source": [
    "## 1.2 Energy Calibration Models\n",
    "\n",
    "All calibrations are instances of `Calibration`, which stores an arbitrary scalar function and its relevant parameters.\n",
    "\n",
    "Further details can be found in the [energycal notebook](./energycal.ipynb)."
   ]
  },
  {
   "cell_type": "code",
   "execution_count": 6,
   "metadata": {},
   "outputs": [
    {
     "name": "stdout",
     "output_type": "stream",
     "text": [
      "[-137.43      19.97825]\n",
      "becquerel.Spectrum\n",
      "    start_time:     None\n",
      "    stop_time:      None\n",
      "    realtime:       None\n",
      "    livetime:       60.0\n",
      "    is_calibrated:  True\n",
      "    num_bins:       100\n",
      "    gross_counts:   1000+/-33\n",
      "    gross_cps:      16.7+/-0.5\n",
      "    filename:       None\n"
     ]
    },
    {
     "data": {
      "image/png": "[encoded data removed]",
      "text/plain": [
       "<Figure size 432x288 with 1 Axes>"
      ]
     },
     "metadata": {
      "needs_background": "light"
     },
     "output_type": "display_data"
    }
   ],
   "source": [
    "chlist = (40, 80)\n",
    "kevlist = (661.7, 1460.83)\n",
    "cal = bq.Calibration.from_points(\"p[0] + p[1] * x\", chlist, kevlist, rng=(-1e3, 1e5))\n",
    "print(cal.params)\n",
    "spec.apply_calibration(cal)\n",
    "print(spec)\n",
    "spec.plot(xmode='keV');"
   ]
  },
  {
   "cell_type": "code",
   "execution_count": 7,
   "metadata": {},
   "outputs": [
    {
     "data": {
      "text/plain": [
       "becquerel.Spectrum\n",
       "    start_time:     None\n",
       "    stop_time:      None\n",
       "    realtime:       None\n",
       "    livetime:       60.0\n",
       "    is_calibrated:  False\n",
       "    num_bins:       100\n",
       "    gross_counts:   1000+/-32\n",
       "    gross_cps:      16.7+/-0.5\n",
       "    filename:       None"
      ]
     },
     "execution_count": 7,
     "metadata": {},
     "output_type": "execute_result"
    }
   ],
   "source": [
    "# New spec\n",
    "c, _ = np.histogram(np.random.poisson(50, 1000), bins=np.arange(101))\n",
    "spec2 = bq.Spectrum(counts=c, livetime=60.)\n",
    "spec2"
   ]
  },
  {
   "cell_type": "code",
   "execution_count": 8,
   "metadata": {},
   "outputs": [
    {
     "data": {
      "text/plain": [
       "becquerel.Spectrum\n",
       "    start_time:     None\n",
       "    stop_time:      None\n",
       "    realtime:       None\n",
       "    livetime:       60.0\n",
       "    is_calibrated:  True\n",
       "    num_bins:       100\n",
       "    gross_counts:   1000+/-32\n",
       "    gross_cps:      16.7+/-0.5\n",
       "    filename:       None"
      ]
     },
     "execution_count": 8,
     "metadata": {},
     "output_type": "execute_result"
    }
   ],
   "source": [
    "spec2.calibrate_like(spec)\n",
    "spec2"
   ]
  },
  {
   "cell_type": "markdown",
   "metadata": {},
   "source": [
    "## 1.3 From File\n",
    "\n",
    "`becquerel` currently provides parsers for:\n",
    "\n",
    "- `SPE`\n",
    "- `SPC`\n",
    "- `CNF`"
   ]
  },
  {
   "cell_type": "code",
   "execution_count": 9,
   "metadata": {},
   "outputs": [
    {
     "name": "stdout",
     "output_type": "stream",
     "text": [
      "SpeFile: Reading file ../tests/samples/1110C NAA cave pottery.Spe\n"
     ]
    },
    {
     "data": {
      "text/plain": [
       "becquerel.Spectrum\n",
       "    start_time:     2017-04-25 12:54:27\n",
       "    stop_time:      2017-04-25 17:30:24\n",
       "    realtime:       16557.0\n",
       "    livetime:       16543.0\n",
       "    is_calibrated:  True\n",
       "    num_bins:       16384\n",
       "    gross_counts:   (3.047+/-0.006)e+05\n",
       "    gross_cps:      18.419+/-0.034\n",
       "    filename:       ../tests/samples/1110C NAA cave pottery.Spe"
      ]
     },
     "execution_count": 9,
     "metadata": {},
     "output_type": "execute_result"
    }
   ],
   "source": [
    "spec = bq.Spectrum.from_file('../tests/samples/1110C NAA cave pottery.Spe')\n",
    "spec"
   ]
  },
  {
   "cell_type": "code",
   "execution_count": 10,
   "metadata": {},
   "outputs": [
    {
     "data": {
      "text/plain": [
       "True"
      ]
     },
     "execution_count": 10,
     "metadata": {},
     "output_type": "execute_result"
    }
   ],
   "source": [
    "spec.is_calibrated"
   ]
  },
  {
   "cell_type": "code",
   "execution_count": 11,
   "metadata": {},
   "outputs": [
    {
     "data": {
      "image/png": "[encoded data removed]",
      "text/plain": [
       "<Figure size 432x288 with 1 Axes>"
      ]
     },
     "metadata": {
      "needs_background": "light"
     },
     "output_type": "display_data"
    }
   ],
   "source": [
    "spec.plot(yscale='log', linewidth=0.5, ymode='counts');"
   ]
  },
  {
   "cell_type": "code",
   "execution_count": 12,
   "metadata": {},
   "outputs": [],
   "source": [
    "%%capture\n",
    "spec = bq.Spectrum.from_file('../tests/samples/01122014152731-GT01122014182338-GA37.4963000N-GO122.4633000W.cnf')"
   ]
  },
  {
   "cell_type": "code",
   "execution_count": 13,
   "metadata": {},
   "outputs": [
    {
     "data": {
      "text/plain": [
       "becquerel.Spectrum\n",
       "    start_time:     2014-01-12 15:12:28.125000\n",
       "    stop_time:      2014-01-12 15:26:37.635000\n",
       "    realtime:       849.5099998999999\n",
       "    livetime:       841.4199999\n",
       "    is_calibrated:  True\n",
       "    num_bins:       4096\n",
       "    gross_counts:   (6.837+/-0.008)e+05\n",
       "    gross_cps:      812.5+/-1.0\n",
       "    filename:       ../tests/samples/01122014152731-GT01122014182338-GA37.4963000N-GO122.4633000W.cnf"
      ]
     },
     "execution_count": 13,
     "metadata": {},
     "output_type": "execute_result"
    }
   ],
   "source": [
    "spec"
   ]
  },
  {
   "cell_type": "code",
   "execution_count": 14,
   "metadata": {},
   "outputs": [],
   "source": [
    "%%capture\n",
    "spec = bq.Spectrum.from_file('../tests/samples/Alcatraz14.Spc')"
   ]
  },
  {
   "cell_type": "code",
   "execution_count": 15,
   "metadata": {},
   "outputs": [
    {
     "data": {
      "text/plain": [
       "becquerel.Spectrum\n",
       "    start_time:     2012-09-17 13:41:07\n",
       "    stop_time:      2012-09-17 13:56:12\n",
       "    realtime:       905.0\n",
       "    livetime:       900.0\n",
       "    is_calibrated:  True\n",
       "    num_bins:       8192\n",
       "    gross_counts:   (1.330+/-0.004)e+05\n",
       "    gross_cps:      147.8+/-0.4\n",
       "    filename:       ../tests/samples/Alcatraz14.Spc"
      ]
     },
     "execution_count": 15,
     "metadata": {},
     "output_type": "execute_result"
    }
   ],
   "source": [
    "spec"
   ]
  },
  {
   "cell_type": "markdown",
   "metadata": {},
   "source": [
    "## 1.4 Background Subtraction"
   ]
  },
  {
   "cell_type": "code",
   "execution_count": 16,
   "metadata": {},
   "outputs": [
    {
     "name": "stdout",
     "output_type": "stream",
     "text": [
      "SpeFile: Reading file ../tests/samples/1110C NAA cave pottery.Spe\n",
      "becquerel.Spectrum\n",
      "    start_time:     2017-04-25 12:54:27\n",
      "    stop_time:      2017-04-25 17:30:24\n",
      "    realtime:       16557.0\n",
      "    livetime:       16543.0\n",
      "    is_calibrated:  True\n",
      "    num_bins:       16384\n",
      "    gross_counts:   (3.047+/-0.006)e+05\n",
      "    gross_cps:      18.419+/-0.034\n",
      "    filename:       ../tests/samples/1110C NAA cave pottery.Spe\n",
      "SpeFile: Reading file ../tests/samples/1110C NAA cave background May 2017.spe\n",
      "becquerel.Spectrum\n",
      "    start_time:     2017-04-26 11:05:11\n",
      "    stop_time:      2017-05-01 12:43:34\n",
      "    realtime:       437903.0\n",
      "    livetime:       437817.0\n",
      "    is_calibrated:  True\n",
      "    num_bins:       16384\n",
      "    gross_counts:   (1.0529+/-0.0010)e+06\n",
      "    gross_cps:      2.4049+/-0.0023\n",
      "    filename:       ../tests/samples/1110C NAA cave background May 2017.spe\n"
     ]
    }
   ],
   "source": [
    "spec = bq.Spectrum.from_file('../tests/samples/1110C NAA cave pottery.Spe')\n",
    "print(spec)\n",
    "bkg = bq.Spectrum.from_file('../tests/samples/1110C NAA cave background May 2017.spe')\n",
    "print(bkg)"
   ]
  },
  {
   "cell_type": "code",
   "execution_count": 17,
   "metadata": {},
   "outputs": [
    {
     "name": "stderr",
     "output_type": "stream",
     "text": [
      "becquerel/core/spectrum.py:815: SpectrumWarning: Subtraction of counts-based specta, spectra have been converted to CPS\n",
      "  warnings.warn(\n"
     ]
    },
    {
     "name": "stdout",
     "output_type": "stream",
     "text": [
      "Total pottery countrate:    18.419+/- 0.034\n",
      "Total background countrate:  2.405+/- 0.002\n",
      "Total subtracted countrate: 16.014+/- 0.034\n"
     ]
    }
   ],
   "source": [
    "bkgsub = spec - bkg\n",
    "print('Total pottery countrate:    {:6.3f}'.format(np.sum(spec.cps)))\n",
    "print('Total background countrate: {:6.3f}'.format(np.sum(bkg.cps)))\n",
    "print('Total subtracted countrate: {:6.3f}'.format(np.sum(bkgsub.cps)))"
   ]
  },
  {
   "cell_type": "code",
   "execution_count": 18,
   "metadata": {},
   "outputs": [
    {
     "data": {
      "image/png": "[encoded data removed]",
      "text/plain": [
       "<Figure size 864x432 with 1 Axes>"
      ]
     },
     "metadata": {
      "needs_background": "light"
     },
     "output_type": "display_data"
    }
   ],
   "source": [
    "fig, ax = plt.subplots(1, figsize=(12, 6))\n",
    "ax = spec.plot(color='firebrick', linewidth=0.5, yscale='log', ax=ax, label='Measurement', ymode='cps')\n",
    "bkgsub.plot(ax=ax, color='dodgerblue', linewidth=0.5, label='Measurement - Background', ymode='cps')\n",
    "bkg.plot(ax=ax, color='olive', linewidth=0.5, label='Background', ymode='cps')\n",
    "ax.set_ylim(bottom=1e-5)\n",
    "ax.set_title('Background Subtraction')\n",
    "ax.legend();"
   ]
  },
  {
   "cell_type": "code",
   "execution_count": 19,
   "metadata": {},
   "outputs": [
    {
     "data": {
      "image/png": "[encoded data removed]",
      "text/plain": [
       "<Figure size 864x432 with 1 Axes>"
      ]
     },
     "metadata": {
      "needs_background": "light"
     },
     "output_type": "display_data"
    }
   ],
   "source": [
    "# Is there any Tl-208 in the background-subtracted spectrum?\n",
    "fig, ax = plt.subplots(1, figsize=(12, 6))\n",
    "ax = spec.plot(color='firebrick', linewidth=1, yscale='linear', ax=ax, label='Measurement', ymode='cps')\n",
    "bkg.plot(ax=ax, color='olive', linewidth=1, label='Background', ymode='cps')\n",
    "bkgsub.plot(ax=ax, color='dodgerblue', linewidth=1, label='Measurement - Background', ymode='cps')\n",
    "ax.set_ylim(bottom=1e-5)\n",
    "ax.set_title('Background Subtraction')\n",
    "ax.legend()\n",
    "plt.xlim(2600, 2630)\n",
    "plt.ylim(0, 0.0008);"
   ]
  },
  {
   "cell_type": "markdown",
   "metadata": {},
   "source": [
    "## 1.5 Rebinning\n",
    "\n",
    "- deterministic (interpolation): `interpolation`\n",
    "- stochastic (convert to listmode): `listmode`\n",
    "\n",
    "Further details can be found in the [rebinning notebook](./rebinning.ipynb)."
   ]
  },
  {
   "cell_type": "code",
   "execution_count": 20,
   "metadata": {},
   "outputs": [
    {
     "name": "stdout",
     "output_type": "stream",
     "text": [
      "SpeFile: Reading file ../tests/samples/1110C NAA cave pottery.Spe\n",
      "SpeFile: Reading file ../tests/samples/1110C NAA cave background May 2017.spe\n"
     ]
    },
    {
     "name": "stderr",
     "output_type": "stream",
     "text": [
      "becquerel/core/rebin.py:61: RebinWarning: The last input edge is smaller than the last output edge, zeros will padded on the right side of the new spectrum\n",
      "  warnings.warn(\n"
     ]
    }
   ],
   "source": [
    "spec = bq.Spectrum.from_file('../tests/samples/1110C NAA cave pottery.Spe')\n",
    "bkg = bq.Spectrum.from_file('../tests/samples/1110C NAA cave background May 2017.spe')\n",
    "bkg_rebin = bkg.rebin(np.linspace(0., 3000., 16000))"
   ]
  },
  {
   "cell_type": "code",
   "execution_count": 21,
   "metadata": {},
   "outputs": [
    {
     "name": "stdout",
     "output_type": "stream",
     "text": [
      "ERROR: Cannot add/subtract spectra of different lengths\n"
     ]
    }
   ],
   "source": [
    "try:\n",
    "    bkgsub = spec - bkg_rebin\n",
    "except bq.SpectrumError as e:\n",
    "    print('ERROR:', e)"
   ]
  },
  {
   "cell_type": "code",
   "execution_count": 22,
   "metadata": {},
   "outputs": [],
   "source": [
    "spec_rebin = spec.rebin_like(bkg_rebin)"
   ]
  },
  {
   "cell_type": "code",
   "execution_count": 23,
   "metadata": {},
   "outputs": [
    {
     "name": "stderr",
     "output_type": "stream",
     "text": [
      "becquerel/core/spectrum.py:815: SpectrumWarning: Subtraction of counts-based specta, spectra have been converted to CPS\n",
      "  warnings.warn(\n"
     ]
    },
    {
     "data": {
      "text/plain": [
       "becquerel.Spectrum\n",
       "    start_time:     None\n",
       "    stop_time:      None\n",
       "    realtime:       None\n",
       "    livetime:       None\n",
       "    is_calibrated:  True\n",
       "    num_bins:       15999\n",
       "    gross_counts:   None\n",
       "    gross_cps:      16.014+/-0.033\n",
       "    filename:       None"
      ]
     },
     "execution_count": 23,
     "metadata": {},
     "output_type": "execute_result"
    }
   ],
   "source": [
    "spec_rebin - bkg_rebin"
   ]
  },
  {
   "cell_type": "markdown",
   "metadata": {},
   "source": [
    "## 1.6 Scaling\n",
    "\n",
    "Multiplication or division will be applied to the data of the spectrum. The following decimates a spectrum by dividing by 10:"
   ]
  },
  {
   "cell_type": "code",
   "execution_count": 24,
   "metadata": {},
   "outputs": [
    {
     "name": "stdout",
     "output_type": "stream",
     "text": [
      "SpeFile: Reading file ../tests/samples/1110C NAA cave background May 2017.spe\n",
      "becquerel.Spectrum\n",
      "    start_time:     None\n",
      "    stop_time:      None\n",
      "    realtime:       None\n",
      "    livetime:       None\n",
      "    is_calibrated:  True\n",
      "    num_bins:       16384\n",
      "    gross_counts:   (1.0529+/-0.0010)e+05\n",
      "    gross_cps:      None\n",
      "    filename:       None\n"
     ]
    }
   ],
   "source": [
    "spec = bq.Spectrum.from_file('../tests/samples/1110C NAA cave background May 2017.spe')\n",
    "spec_div  = spec / 10\n",
    "print(spec_div)"
   ]
  },
  {
   "cell_type": "markdown",
   "metadata": {},
   "source": [
    "One might however want to decimate a spectrum in a way consistent with Poisson statistics. For that there is the `downsample` method:"
   ]
  },
  {
   "cell_type": "code",
   "execution_count": 25,
   "metadata": {
    "scrolled": false
   },
   "outputs": [
    {
     "name": "stdout",
     "output_type": "stream",
     "text": [
      "becquerel.Spectrum\n",
      "    start_time:     None\n",
      "    stop_time:      None\n",
      "    realtime:       None\n",
      "    livetime:       43781.7\n",
      "    is_calibrated:  True\n",
      "    num_bins:       16384\n",
      "    gross_counts:   (1.0484+/-0.0033)e+05\n",
      "    gross_cps:      2.395+/-0.008\n",
      "    filename:       None\n"
     ]
    },
    {
     "data": {
      "image/png": "[encoded data removed]",
      "text/plain": [
       "<Figure size 432x288 with 1 Axes>"
      ]
     },
     "metadata": {
      "needs_background": "light"
     },
     "output_type": "display_data"
    }
   ],
   "source": [
    "spec_downsample = spec.downsample(10, handle_livetime='reduce')\n",
    "print(spec_downsample)\n",
    "\n",
    "ax = spec_div.plot(label='div', ymode='counts', yscale='log')\n",
    "spec_downsample.plot(ax=ax, label='downsample', ymode='counts')\n",
    "ax.legend()\n",
    "ax.set_xlim(600, 620)\n",
    "ax.set_ylim(1.3, 5e1);"
   ]
  },
  {
   "cell_type": "markdown",
   "metadata": {},
   "source": [
    "## 1.7 Automatic Calibration\n",
    "\n",
    "There are utilities in Becquerel for automatically finding peaks in a raw spectrum and matching them to a list of energies as a first pass at a full calibration.\n",
    "\n",
    "Further details can be found in the [autocal notebook](./autocal.ipynb).\n",
    "\n",
    "Let's load an uncalibrated sodium iodide spectrum that has Cobalt-60 and background lines:"
   ]
  },
  {
   "cell_type": "code",
   "execution_count": 26,
   "metadata": {},
   "outputs": [
    {
     "name": "stdout",
     "output_type": "stream",
     "text": [
      "SpeFile: Reading file ../tests/samples/digibase_5min_30_1.spe\n"
     ]
    },
    {
     "name": "stderr",
     "output_type": "stream",
     "text": [
      "/Users/msbandstra/Dropbox/Projects/Becquerel/becquerel/becquerel/parsers/spectrum_file.py:137: SpectrumFileParsingWarning: Spectrum will be initated without an energy calibration;invalid calibration, energies not monotonically increasing.\n",
      "  warnings.warn(\n"
     ]
    },
    {
     "data": {
      "image/png": "[encoded data removed]",
      "text/plain": [
       "<Figure size 864x432 with 1 Axes>"
      ]
     },
     "metadata": {
      "needs_background": "light"
     },
     "output_type": "display_data"
    }
   ],
   "source": [
    "spec = bq.Spectrum.from_file('../tests/samples/digibase_5min_30_1.spe')\n",
    "fig, ax = plt.subplots(1, figsize=(12, 6))\n",
    "spec.plot(ax=ax, linewidth=0.5, xmode='channels', yscale='log')\n",
    "plt.xlim(0, len(spec));"
   ]
  },
  {
   "cell_type": "code",
   "execution_count": 27,
   "metadata": {},
   "outputs": [
    {
     "data": {
      "image/png": "[encoded data removed]",
      "text/plain": [
       "<Figure size 720x360 with 1 Axes>"
      ]
     },
     "metadata": {
      "needs_background": "light"
     },
     "output_type": "display_data"
    }
   ],
   "source": [
    "# filter the spectrum\n",
    "kernel = bq.GaussianPeakFilter(400, 20, 3)\n",
    "finder = bq.PeakFinder(spec, kernel)\n",
    "finder.find_peaks(min_snr=10, xmin=50)\n",
    "cal = bq.AutoCalibrator(finder)\n",
    "\n",
    "plt.figure(figsize=(10, 5))\n",
    "plt.title('Signal-to-noise ratio of spectral lines after filter')\n",
    "cal.peakfinder.plot()\n",
    "plt.tight_layout()"
   ]
  },
  {
   "cell_type": "code",
   "execution_count": 28,
   "metadata": {},
   "outputs": [
    {
     "name": "stdout",
     "output_type": "stream",
     "text": [
      "found best gain: 6.371703 keV/channel\n"
     ]
    },
    {
     "data": {
      "image/png": "[encoded data removed]",
      "text/plain": [
       "<Figure size 864x432 with 1 Axes>"
      ]
     },
     "metadata": {
      "needs_background": "light"
     },
     "output_type": "display_data"
    }
   ],
   "source": [
    "# perform calibration\n",
    "cal.fit(\n",
    "    [1173.2, 1332.5, 1460.8, 2614.5],\n",
    "    gain_range=[5., 7.],\n",
    "    de_max=100.,\n",
    ")\n",
    "spec.apply_calibration(cal.cal)\n",
    "\n",
    "fig, ax = plt.subplots(1, figsize=(12, 6))\n",
    "spec.plot(ax=ax, linewidth=0.5, xmode='energy', yscale='log')\n",
    "for erg in cal.fit_energies:\n",
    "    plt.plot([erg, erg], [1e-1, 1e4], 'r-', alpha=0.5)\n",
    "    plt.text(erg, 1e4, '{:.1f} keV'.format(erg), rotation=90)\n",
    "plt.xlim(0, 3000);"
   ]
  },
  {
   "cell_type": "markdown",
   "metadata": {},
   "source": [
    "# 2. Nuclear Data"
   ]
  },
  {
   "cell_type": "markdown",
   "metadata": {},
   "source": [
    "## 2.1 `bq.Element`"
   ]
  },
  {
   "cell_type": "code",
   "execution_count": 29,
   "metadata": {},
   "outputs": [
    {
     "name": "stdout",
     "output_type": "stream",
     "text": [
      "Cesium(Cs) Z=55 Cesium(Cs) Z=55 Cesium(Cs) Z=55\n",
      "True\n",
      "Cesium(Cs) Z=55\n",
      "{'Z': 55,\n",
      " 'atomic_mass': 132.91,\n",
      " 'name': 'Cesium',\n",
      " 'symbol': 'Cs'}\n"
     ]
    }
   ],
   "source": [
    "e1 = bq.Element('Cs')\n",
    "e2 = bq.Element(55)\n",
    "e3 = bq.Element('55')\n",
    "print(e1, e2, e3)\n",
    "print(e1 == e2 == e3)\n",
    "print('{:%n(%s) Z=%z}'.format(e1))\n",
    "pprint(e1.__dict__, width=10)"
   ]
  },
  {
   "cell_type": "markdown",
   "metadata": {},
   "source": [
    "## 2.2 `bq.Isotope`\n",
    "\n",
    "Further examples of `Isotope` and `IsotopeQuantity` can be found in the [isotopes notebook](./isotopes.ipynb)."
   ]
  },
  {
   "cell_type": "code",
   "execution_count": 30,
   "metadata": {},
   "outputs": [
    {
     "name": "stdout",
     "output_type": "stream",
     "text": [
      "Cs-137 Cs-137 Cs-137 Cs-137 Cs-137\n",
      "True\n"
     ]
    }
   ],
   "source": [
    "i1 = bq.Isotope('Cs-137')\n",
    "i2 = bq.Isotope('137CS')\n",
    "i3 = bq.Isotope('Cs', 137)\n",
    "i4 = bq.Isotope('Cesium-137')\n",
    "i5 = bq.Isotope('137CAESIUM')\n",
    "print(i1, i2, i3, i4, i5)\n",
    "print(i1 == i2 == i3 == i4 == i5)"
   ]
  },
  {
   "cell_type": "markdown",
   "metadata": {},
   "source": [
    "Isotope names and properties"
   ]
  },
  {
   "cell_type": "code",
   "execution_count": 31,
   "metadata": {
    "scrolled": false
   },
   "outputs": [
    {
     "name": "stdout",
     "output_type": "stream",
     "text": [
      "Tc-99m\n",
      "Technetium(Tc)-99m Z=43\n",
      "{'A': 99,\n",
      " 'M': 1,\n",
      " 'N': 56,\n",
      " 'Z': 43,\n",
      " 'atomic_mass': 98,\n",
      " 'm': 'm',\n",
      " 'name': 'Technetium',\n",
      " 'symbol': 'Tc'}\n",
      "half-life: 6.01 hr\n"
     ]
    }
   ],
   "source": [
    "iso = bq.Isotope('Tc-99m')\n",
    "print(iso)\n",
    "print('{:%n(%s)-%a%m Z=%z}'.format(iso))\n",
    "pprint(iso.__dict__)\n",
    "print('half-life: {:.2f} hr'.format(iso.half_life / 3600))"
   ]
  },
  {
   "cell_type": "markdown",
   "metadata": {},
   "source": [
    "More isotope properties such as half-life, stability, and natural abundance are available:"
   ]
  },
  {
   "cell_type": "code",
   "execution_count": 32,
   "metadata": {},
   "outputs": [
    {
     "name": "stdout",
     "output_type": "stream",
     "text": [
      "\n",
      "Isotope: K-39\n",
      "    Spin-parity: 3/2+\n",
      "    Abundance:   93.26+/-0.00%\n",
      "    Stable?      True\n",
      "\n",
      "Isotope: K-40\n",
      "    Spin-parity: 4-\n",
      "    Abundance:   0.01+/-0.00%\n",
      "    Stable?      False\n",
      "    Half-life:   1.248e+09 years\n",
      "    Decay modes: (['EC', 'B-'], [10.72, 89.28])\n",
      "\n",
      "Isotope: K-41\n",
      "    Spin-parity: 3/2+\n",
      "    Abundance:   6.73+/-0.00%\n",
      "    Stable?      True\n"
     ]
    }
   ],
   "source": [
    "for a in range(39, 42):\n",
    "    iso = bq.Isotope('Potassium', a)\n",
    "    print('')\n",
    "    print('Isotope: {}'.format(iso))\n",
    "    print('    Spin-parity: {}'.format(iso.j_pi))\n",
    "    if iso.abundance is not None:\n",
    "        print('    Abundance:   {:.2f}%'.format(iso.abundance))\n",
    "    print('    Stable?      {}'.format(iso.is_stable))\n",
    "    if not iso.is_stable:\n",
    "        print('    Half-life:   {:.3e} years'.format(iso.half_life / 365.25 / 24 / 3600))\n",
    "        print('    Decay modes: {}'.format(iso.decay_modes))"
   ]
  },
  {
   "cell_type": "markdown",
   "metadata": {},
   "source": [
    "## 2.3 `bq.IsotopeQuantity`"
   ]
  },
  {
   "cell_type": "markdown",
   "metadata": {},
   "source": [
    "Source activity on a given date\n",
    "\n",
    "Here's a check source activity on today's date:"
   ]
  },
  {
   "cell_type": "code",
   "execution_count": 33,
   "metadata": {
    "scrolled": true
   },
   "outputs": [
    {
     "data": {
      "text/plain": [
       "5.67772059709519"
      ]
     },
     "execution_count": 33,
     "metadata": {},
     "output_type": "execute_result"
    }
   ],
   "source": [
    "ba133_chk = bq.IsotopeQuantity('ba133', date='2013-05-01', uci=10.02)\n",
    "ba133_chk.uci_at()"
   ]
  },
  {
   "cell_type": "markdown",
   "metadata": {},
   "source": [
    "Or for another date:"
   ]
  },
  {
   "cell_type": "code",
   "execution_count": 34,
   "metadata": {
    "scrolled": false
   },
   "outputs": [
    {
     "data": {
      "text/plain": [
       "7.31185585945217"
      ]
     },
     "execution_count": 34,
     "metadata": {},
     "output_type": "execute_result"
    }
   ],
   "source": [
    "ba133_chk.uci_at('2018-02-16')"
   ]
  },
  {
   "cell_type": "markdown",
   "metadata": {},
   "source": [
    "## 2.4 `bq.materials`\n",
    "\n",
    "Access the [NIST X-ray mass attenuation coefficients database](https://www.nist.gov/pml/x-ray-mass-attenuation-coefficients) for [elements](https://physics.nist.gov/PhysRefData/XrayMassCoef/tab1.html) and [compounds](https://physics.nist.gov/PhysRefData/XrayMassCoef/tab2.html) and also data from the [PNNL Materials Compendium](https://compendium.cwmd.pnnl.gov)."
   ]
  },
  {
   "cell_type": "code",
   "execution_count": 35,
   "metadata": {},
   "outputs": [
    {
     "name": "stdout",
     "output_type": "stream",
     "text": [
      "['15 mmol L-1 Ceric Ammonium Sulfate Solution',\n",
      " 'A-150 Tissue-Equivalent Plastic',\n",
      " 'Ac',\n",
      " 'Acetone',\n",
      " 'Acetylene',\n",
      " 'Actinium',\n",
      " 'Adipose Tissue (ICRU-44)',\n",
      " 'Ag',\n",
      " 'Air (dry, near sea level)',\n",
      " 'Air, Dry (near sea level)',\n",
      " 'Al',\n",
      " 'Alanine',\n",
      " 'Aluminum',\n",
      " 'Aluminum Oxide',\n",
      " 'Aluminum, alloy 2024-O',\n",
      " 'Aluminum, alloy 2090-T83',\n",
      " 'Aluminum, alloy 3003',\n",
      " 'Aluminum, alloy 4043-O',\n",
      " 'Aluminum, alloy 5086-O',\n",
      " 'Aluminum, alloy 6061-O',\n",
      " 'Aluminum, alloy 7075-O',\n",
      " 'Ammonia (liquid at T= -79 C)',\n",
      " 'Anthracene',\n",
      " 'Antimony',\n",
      " 'Ar',\n",
      " 'Argon',\n",
      " 'Arsenic',\n",
      " 'As',\n",
      " 'Asbestos (Chrysotile)',\n",
      " 'Asphalt',\n",
      " 'Asphalt pavement',\n",
      " 'Astatine',\n",
      " 'At',\n",
      " 'Au',\n",
      " 'B',\n",
      " 'B-100 Bone-Equivalent Plastic',\n",
      " 'Ba',\n",
      " 'Bakelite',\n",
      " 'Barium',\n",
      " 'Barium Fluoride',\n",
      " 'Barium sulfate',\n",
      " 'Be',\n",
      " 'Benzene',\n",
      " 'Beryllium',\n",
      " 'Beryllium Carbide',\n",
      " 'Beryllium Oxide',\n",
      " 'Bi',\n",
      " 'Bismuth',\n",
      " 'Bismuth Germanate (BGO)',\n",
      " 'Bismuth Iodide',\n",
      " 'Blood (ICRP)',\n",
      " 'Blood, Whole (ICRU-44)',\n",
      " 'Bone Equivalent Plastic, B-100',\n",
      " 'Bone Equivalent Plastic, B-110',\n",
      " 'Bone, Compact (ICRU)',\n",
      " 'Bone, Cortical (ICRP)',\n",
      " 'Bone, Cortical (ICRU-44)',\n",
      " 'Boral (65% Al-35% B4C)',\n",
      " 'Boral (Aluminum 10% boron alloy)',\n",
      " 'Boral (Aluminum 5% boron alloy)',\n",
      " 'Borax',\n",
      " 'Boric Acid',\n",
      " 'Boron',\n",
      " 'Boron Carbide',\n",
      " 'Boron Fluoride (B2F4)',\n",
      " 'Boron Fluoride (BF3)',\n",
      " 'Boron Oxide',\n",
      " 'Br',\n",
      " 'Brain (ICRP)',\n",
      " 'Brain, Grey/White Matter (ICRU-44)',\n",
      " 'Brass (typical composition)',\n",
      " 'Breast Tissue (ICRU-44)',\n",
      " 'Brick, Common Silica',\n",
      " 'Brick, Fire',\n",
      " 'Brick, Kaolin (white)',\n",
      " 'Bromine',\n",
      " 'Bronze (typical composition)',\n",
      " 'C',\n",
      " 'C-552 Air-Equivalent Plastic',\n",
      " 'C-552 Air-equivalent Plastic',\n",
      " 'CELOTEX (Lignocellulosic Fiberboard)',\n",
      " 'CLLB(Ce) - Cesium Lithium Lanthanum Bromide - 0.3 wt% Cerium doped',\n",
      " 'Ca',\n",
      " 'Cadmium',\n",
      " 'Cadmium Nitrate Tetrahydrate',\n",
      " 'Cadmium Telluride',\n",
      " 'Cadmium Tungstate (CWO)',\n",
      " 'Cadmium Zinc Telluride (CZT)',\n",
      " 'Calcium',\n",
      " 'Calcium Carbonate',\n",
      " 'Calcium Fluoride',\n",
      " 'Calcium Oxide',\n",
      " 'Calcium Sulfate',\n",
      " 'Calcium Tungstate',\n",
      " 'Carbon Dioxide',\n",
      " 'Carbon Tetrachloride',\n",
      " 'Carbon, Activated',\n",
      " 'Carbon, Amorphous',\n",
      " 'Carbon, Graphite',\n",
      " 'Carbon, Graphite (reactor grade)',\n",
      " 'Cat litter (clumping)',\n",
      " 'Cat litter (non-clumping)',\n",
      " 'Cd',\n",
      " 'Ce',\n",
      " 'Cellulose',\n",
      " 'Cellulose Acetate',\n",
      " 'Ceric Sulfate Dosimeter Solution',\n",
      " 'Cerium',\n",
      " 'Cerium Bromide',\n",
      " 'Cerium Fluoride',\n",
      " 'Cesium',\n",
      " 'Cesium Iodide',\n",
      " 'Cesium Iodide - 1 wt% Sodium doped',\n",
      " 'Cesium Iodide - 1 wt% Thalium doped',\n",
      " 'Cesium Lithium Yttrium Chloride (CLYC)',\n",
      " 'Cesium Lithium Yttrium Chloride (CLYC) with 95% Li6 Enrichment',\n",
      " 'Chlorine',\n",
      " 'Chromium',\n",
      " 'Cl',\n",
      " 'Clay',\n",
      " 'Co',\n",
      " 'Coal, Anthracite',\n",
      " 'Coal, Bituminous',\n",
      " 'Coal, Lignite',\n",
      " 'Cobalt',\n",
      " 'Concrete [Los Alamos (MCNP) Mix]',\n",
      " 'Concrete, Barite (TYPE BA)',\n",
      " 'Concrete, Barite (Type BA)',\n",
      " 'Concrete, Barytes-Limonite',\n",
      " 'Concrete, Boron Frits-baryte',\n",
      " 'Concrete, Colemanite-baryte',\n",
      " 'Concrete, Ferro-phosphorus',\n",
      " 'Concrete, Hanford Dry',\n",
      " 'Concrete, Hanford Wet',\n",
      " 'Concrete, Iron-Portland',\n",
      " 'Concrete, Iron-limonite',\n",
      " 'Concrete, Limonite and steel',\n",
      " 'Concrete, Luminite-Portland-colemanite-baryte',\n",
      " 'Concrete, Luminite-colemanite-baryte',\n",
      " 'Concrete, M-1',\n",
      " 'Concrete, MO',\n",
      " 'Concrete, Magnetite',\n",
      " 'Concrete, Magnetite and steel',\n",
      " \"Concrete, Magnuson's\",\n",
      " 'Concrete, Oak Ridge (ORNL)',\n",
      " 'Concrete, Ordinary',\n",
      " 'Concrete, Ordinary (NBS 03)',\n",
      " 'Concrete, Ordinary (NBS 04)',\n",
      " 'Concrete, Ordinary (NIST)',\n",
      " 'Concrete, Portland',\n",
      " 'Concrete, Regulatory Concrete (developed for U.S. NRC)',\n",
      " 'Concrete, Rocky Flats',\n",
      " 'Concrete, Serpentine',\n",
      " 'Copper',\n",
      " 'Cr',\n",
      " 'Cs',\n",
      " 'Cu',\n",
      " 'Diatomaceous Earth',\n",
      " 'Diesel Fuel',\n",
      " 'Dy',\n",
      " 'Dysprosium',\n",
      " 'Earth, Typical Western U.S.',\n",
      " 'Earth, U.S. Average',\n",
      " 'Er',\n",
      " 'Erbium',\n",
      " 'Ethane',\n",
      " 'Ethyl Acetate',\n",
      " 'Ethyl Alcohol',\n",
      " 'Ethylene',\n",
      " 'Ethylene Glycol',\n",
      " 'Eu',\n",
      " 'Europium',\n",
      " 'Explosive compound, AN',\n",
      " 'Explosive compound, EGDN',\n",
      " 'Explosive compound, HMX',\n",
      " 'Explosive compound, NC',\n",
      " 'Explosive compound, NG',\n",
      " 'Explosive compound, PETN',\n",
      " 'Explosive compound, RDX',\n",
      " 'Explosive compound, TNT',\n",
      " 'Eye Lens (ICRP)',\n",
      " 'Eye Lens (ICRU-44)',\n",
      " 'F',\n",
      " 'Fe',\n",
      " 'Felt',\n",
      " 'Ferric Oxide',\n",
      " 'Ferrous Sulfate Dosimeter Solution',\n",
      " 'Ferrous Sulfate Standard Fricke',\n",
      " 'Fertilizer (Muriate of Potash)',\n",
      " 'Fiberglass, Type C',\n",
      " 'Fiberglass, Type E',\n",
      " 'Fiberglass, Type R',\n",
      " 'Fluorine',\n",
      " 'Fr',\n",
      " 'Francium',\n",
      " 'Freon-12',\n",
      " 'Freon-12B2',\n",
      " 'Freon-13',\n",
      " 'Freon-13B1',\n",
      " 'Freon-13I1',\n",
      " 'GAGG(CE)',\n",
      " 'Ga',\n",
      " 'Gadolinium',\n",
      " 'Gadolinium Aluminum Galium Oxide - 0.5 atom% Cerium doped',\n",
      " 'Gadolinium Oxysulfide',\n",
      " 'Gadolinium Silicate (GSO)',\n",
      " 'Gafchromic Sensor',\n",
      " 'Gafchromic Sensor (GS)',\n",
      " 'Gallium',\n",
      " 'Gallium Arsenide',\n",
      " 'Gasoline',\n",
      " 'Gd',\n",
      " 'Ge',\n",
      " 'Germanium',\n",
      " 'Germanium, High Purity',\n",
      " 'Glass Scintillator, Li Doped  (GS1, GS2, GS3)',\n",
      " 'Glass Scintillator, Li Doped  (GS10, GS20, GS30)',\n",
      " 'Glass Scintillator, Li Doped  (GSF1, GSF2, and GSF3)',\n",
      " 'Glass Scintillator, Li Doped  (KG1, KG2, KG3)',\n",
      " 'Glass, Borosilicate (Pyrex Glass)',\n",
      " 'Glass, Borosilicate (Pyrex)',\n",
      " 'Glass, Foam',\n",
      " 'Glass, Lead',\n",
      " 'Glass, Plate',\n",
      " 'Glycerol',\n",
      " 'Gold',\n",
      " 'Gypsum (Plaster of Paris)',\n",
      " 'H',\n",
      " 'Hafnium',\n",
      " 'He',\n",
      " 'He-3 proportional gas',\n",
      " 'He-4 gas detector',\n",
      " 'Helium',\n",
      " 'Helium, Natural',\n",
      " 'Hf',\n",
      " 'Hg',\n",
      " 'Ho',\n",
      " 'Holmium',\n",
      " 'Hydrogen',\n",
      " 'I',\n",
      " 'In',\n",
      " 'Incoloy Alloy 800',\n",
      " 'Inconel Alloy 600',\n",
      " 'Inconel Alloy 625',\n",
      " 'Inconel Alloy 718',\n",
      " 'Indium',\n",
      " 'Iodine',\n",
      " 'Ir',\n",
      " 'Iridium',\n",
      " 'Iron',\n",
      " 'Iron Boride (Fe2B)',\n",
      " 'Iron Boride (FeB)',\n",
      " 'Iron, Armco Ingot',\n",
      " 'Iron, Cast (gray)',\n",
      " 'Iron, Wrought (Byers No.1)',\n",
      " 'K',\n",
      " 'Kaowool',\n",
      " 'Kapton Polyimide Film',\n",
      " 'Kennertium',\n",
      " 'Kernite',\n",
      " 'Kerosene',\n",
      " 'Kr',\n",
      " 'Krypton',\n",
      " 'Kynar',\n",
      " 'La',\n",
      " 'Lanthanum',\n",
      " 'Lanthanum Bromide - 0.5 wt% Cerium doped',\n",
      " 'Lanthanum Bromide - 10 wt% Cerium and 0.10 wt% Strontium doped',\n",
      " 'Lanthanum Bromide - 10 wt% Cerium doped',\n",
      " 'Lanthanum Bromide - 5 wt% Cerium doped',\n",
      " 'Lead',\n",
      " 'Lead Iodide',\n",
      " 'Lead Tungstate (PWO)',\n",
      " 'Li',\n",
      " 'Lithium',\n",
      " 'Lithium Amide',\n",
      " 'Lithium Fluoride',\n",
      " 'Lithium Fluride',\n",
      " 'Lithium Gadolinium Borate (LGB)',\n",
      " 'Lithium Hydride',\n",
      " 'Lithium Iodide (high density)',\n",
      " 'Lithium Iodide (low density)',\n",
      " 'Lithium Oxide',\n",
      " 'Lithium Tetraborate',\n",
      " 'Lu',\n",
      " 'Lucite',\n",
      " 'Lung Tissue (ICRU-44)',\n",
      " 'Lutetium',\n",
      " 'Lutetium Aluminum Garnet (LuAG)',\n",
      " 'Lutetium Iodide(Cerium)',\n",
      " 'Lutetium Orthoaluminate (LuAP)',\n",
      " 'Lutetium Oxyorthosilicate (LSO)',\n",
      " 'Lutetium Yttrium OxyorthoSilicate (LYSO)',\n",
      " 'Magnesium',\n",
      " 'Magnesium Oxide',\n",
      " 'Magnesium Tetraborate',\n",
      " 'Magnesium Tetroborate',\n",
      " 'Manganese',\n",
      " 'Masonite',\n",
      " 'Melamine',\n",
      " 'Melamine Formaldehyde',\n",
      " 'Mercuric Iodide',\n",
      " 'Mercury',\n",
      " 'Methane',\n",
      " 'Methanol',\n",
      " 'Methylene Chloride',\n",
      " 'Mg',\n",
      " 'Mn',\n",
      " 'Mo',\n",
      " 'Molybdenum',\n",
      " 'Monosodium Titanate, MST',\n",
      " 'Mortar',\n",
      " 'Muscle Equivalent-Liquid, with sucrose',\n",
      " 'Muscle Equivalent-Liquid, without sucrose',\n",
      " 'Muscle, Skeletal',\n",
      " 'Muscle, Skeletal (ICRU-44)',\n",
      " 'Muscle, Striated',\n",
      " 'N',\n",
      " 'NE-213 Equivalent',\n",
      " 'Na',\n",
      " 'Nb',\n",
      " 'Nd',\n",
      " 'Ne',\n",
      " 'Neodymium',\n",
      " 'Neon',\n",
      " 'Ni',\n",
      " 'Nickel',\n",
      " 'Niobium',\n",
      " 'Nitrogen',\n",
      " 'Nylon, Dupont ELVAmide 8062',\n",
      " 'Nylon, Type 11 (Rilsan)',\n",
      " 'Nylon, Type 6 and Type 6/6',\n",
      " 'Nylon, Type 6/10',\n",
      " 'O',\n",
      " 'Oil, Crude (Heavy, Cold Lake, Canada)',\n",
      " 'Oil, Crude (Heavy, Mexican)',\n",
      " 'Oil, Crude (Heavy, Qayarah, Iraq)',\n",
      " 'Oil, Crude (Light, Texas)',\n",
      " 'Oil, Fuel (Calif.)',\n",
      " 'Oil, Hydraulic',\n",
      " 'Oil, Lard',\n",
      " 'Os',\n",
      " 'Osmium',\n",
      " 'Ovary (ICRU-44)',\n",
      " 'Oxygen',\n",
      " 'P',\n",
      " 'P-10 gas',\n",
      " 'P-5 gas',\n",
      " 'P-terphenyl',\n",
      " 'Pa',\n",
      " 'Palladium',\n",
      " 'Paper, News print',\n",
      " 'Paper, glossy',\n",
      " 'Paper, printer',\n",
      " 'Pb',\n",
      " 'Pd',\n",
      " 'Phosphorus',\n",
      " 'Photographic Emulsion (Kodak Type AA)',\n",
      " 'Photographic Emulsion (Standard Nuclear)',\n",
      " 'Photographic Emulsion, Gel in',\n",
      " 'Photographic Emulsion, Kodak Type AA',\n",
      " 'Photographic Emulsion, Standard Nuclear',\n",
      " 'Plastic Scintillator, Vinyltoluene',\n",
      " 'Platinum',\n",
      " 'Plutonium Bromide',\n",
      " 'Plutonium Carbide',\n",
      " 'Plutonium Chloride',\n",
      " 'Plutonium Dioxide',\n",
      " 'Plutonium Fluoride (PuF3)',\n",
      " 'Plutonium Fluoride (PuF4)',\n",
      " 'Plutonium Fluoride (PuF6)',\n",
      " 'Plutonium Iodide',\n",
      " 'Plutonium Nitrate',\n",
      " 'Plutonium Nitride',\n",
      " 'Plutonium Oxide (Pu2O3)',\n",
      " 'Plutonium Oxide (PuO)',\n",
      " 'Plutonium, Aged WGPu (A: 4-7% Pu240)',\n",
      " 'Plutonium, Aged WGPu (B: 10-13% Pu240)',\n",
      " 'Plutonium, Aged WGPu (C: 16-19% Pu240)',\n",
      " 'Plutonium, DOE 3013 WGPu',\n",
      " 'Plutonium, Fuel Grade',\n",
      " 'Plutonium, Power Grade',\n",
      " 'Plutonium, Shefelbine WGPu',\n",
      " 'Pm',\n",
      " 'Po',\n",
      " 'Polonium',\n",
      " 'Polycarbonate',\n",
      " 'Polyethylene',\n",
      " 'Polyethylene Terephthalate (PET)',\n",
      " 'Polyethylene Terephthalate, (Mylar)',\n",
      " 'Polyethylene, Borated',\n",
      " 'Polyethylene, Non-borated',\n",
      " 'Polyisocyanurate (PIR)',\n",
      " 'Polymethyl Methacrylate',\n",
      " 'Polypropylene (PP)',\n",
      " 'Polystyrene',\n",
      " 'Polystyrene (PS)',\n",
      " 'Polytetrafluoroethylene (PTFE)',\n",
      " 'Polytetrafluoroethylene, (Teflon)',\n",
      " 'Polyurethane Foam (PUR)',\n",
      " 'Polyvinyl Acetate (PVA)',\n",
      " 'Polyvinyl Chloride',\n",
      " 'Polyvinyl Chloride (PVC)',\n",
      " 'Polyvinyl Toluene (PVT)',\n",
      " 'Polyvinylidene Chloride (PVDC)',\n",
      " 'Potassium',\n",
      " 'Potassium Aluminum Silicate',\n",
      " 'Potassium Iodide',\n",
      " 'Potassium Oxide',\n",
      " 'Pr',\n",
      " 'Praseodymium',\n",
      " 'Promethium',\n",
      " 'Propane (gas)',\n",
      " 'Propane (liquid)',\n",
      " 'Protactinium',\n",
      " 'Pt',\n",
      " 'Quartz',\n",
      " 'Quartz Glass',\n",
      " 'Ra',\n",
      " 'Radiochromic Dye Film, Nylon Base',\n",
      " 'Radiochromic Dye Film, Nylon Base  (RDF: NB)',\n",
      " 'Radium',\n",
      " 'Radon',\n",
      " 'Rayon',\n",
      " 'Rb',\n",
      " 'Re',\n",
      " 'Rh',\n",
      " 'Rhenium',\n",
      " 'Rhodium',\n",
      " 'Rn',\n",
      " 'Rock (Average of 5 types)',\n",
      " 'Rock, Basalt',\n",
      " 'Rock, Granite',\n",
      " 'Rock, Limestone',\n",
      " 'Rock, Sandstone',\n",
      " 'Rock, Shale',\n",
      " 'Ru',\n",
      " 'Rubber, Butyl',\n",
      " 'Rubber, Natural',\n",
      " 'Rubber, Neoprene',\n",
      " 'Rubber, Silicon',\n",
      " 'Rubidium',\n",
      " 'Ruthenium',\n",
      " 'S',\n",
      " 'Salt Water (T=0 C)',\n",
      " 'Salt Water (T=20 C)',\n",
      " 'Samarium',\n",
      " 'Sand',\n",
      " 'Sb',\n",
      " 'Sc',\n",
      " 'Scandium',\n",
      " 'Se',\n",
      " 'Sea Water, Simple Artificial',\n",
      " 'Sea Water, Standard',\n",
      " 'Selenium',\n",
      " 'Sepiolite',\n",
      " 'Si',\n",
      " 'Silciate Yttrium - 0.5 atom% Cerium',\n",
      " 'Silicon',\n",
      " 'Silicon Carbide (hexagonal)',\n",
      " 'Silicon Dioxide (Alpha-quartz)',\n",
      " 'Silicon Dioxide (Silica)',\n",
      " 'Silver',\n",
      " 'Skin (ICRP)',\n",
      " 'Sm',\n",
      " 'Sn',\n",
      " 'Sodium',\n",
      " 'Sodium Bismuth Tungstate (NBWO)',\n",
      " 'Sodium Chloride',\n",
      " 'Sodium Iodide - 0.2 wt% Thalium Doped',\n",
      " 'Sodium Iodide with 0.8 wt% Lithium - 0.10 wt% Thalium doped',\n",
      " 'Sodium Nitrate',\n",
      " 'Sodium Oxide',\n",
      " 'Sr',\n",
      " 'Steel, Boron Stainless',\n",
      " 'Steel, HT9 Stainless',\n",
      " 'Steel, High Carbon (1095)',\n",
      " 'Steel, Low Carbon (1008)',\n",
      " 'Steel, Medium Carbon (1045)',\n",
      " 'Steel, Stainless 202',\n",
      " 'Steel, Stainless 302',\n",
      " 'Steel, Stainless 304',\n",
      " 'Steel, Stainless 304L',\n",
      " 'Steel, Stainless 316',\n",
      " 'Steel, Stainless 316L',\n",
      " 'Steel, Stainless 321',\n",
      " 'Steel, Stainless 347',\n",
      " 'Steel, Stainless 409',\n",
      " 'Steel, Stainless 440A',\n",
      " 'Steel, Stainless 440B',\n",
      " 'Steel, Stainless 440C',\n",
      " 'Sterotex',\n",
      " 'Stilbene (trans-stilbene isomer)',\n",
      " 'Strontium',\n",
      " 'Strontium Iodide - 2.5 atom% Europium doped',\n",
      " 'Sulfur',\n",
      " 'Sulfuric acid',\n",
      " 'Sulphur',\n",
      " 'TLYC',\n",
      " 'Ta',\n",
      " 'Tantalum',\n",
      " 'Tb',\n",
      " 'Tc',\n",
      " 'Te',\n",
      " 'Technetium',\n",
      " 'Tellurium',\n",
      " 'Terbium',\n",
      " 'Testis (ICRU-44)',\n",
      " 'Th',\n",
      " 'Thallium',\n",
      " 'Thorium',\n",
      " 'Thorium Dioxide',\n",
      " 'Thulium',\n",
      " 'Ti',\n",
      " 'Tin',\n",
      " 'Tissue Equivalent, MS20',\n",
      " 'Tissue Equivalent-Gas, methane based  (TEG: MB)',\n",
      " 'Tissue Equivalent-Gas, propane based  (TEG: PB)',\n",
      " 'Tissue, Adipose (ICRP)',\n",
      " 'Tissue, Breast',\n",
      " 'Tissue, Lung (ICRP)',\n",
      " 'Tissue, Ovary',\n",
      " 'Tissue, Soft (ICRP)',\n",
      " 'Tissue, Soft (ICRU Four-Component)',\n",
      " 'Tissue, Soft (ICRU four component)',\n",
      " 'Tissue, Soft (ICRU-44)',\n",
      " 'Tissue, Testes (ICRP)',\n",
      " 'Tissue, Testis (ICRU)',\n",
      " 'Tissue-Equivalent Gas, Methane Based',\n",
      " 'Tissue-Equivalent Gas, Propane Based',\n",
      " 'Titanium',\n",
      " 'Titanium Dioxide',\n",
      " 'Titanium Hydride',\n",
      " 'Titanium alloy, grade 5',\n",
      " 'Tl',\n",
      " 'Tm',\n",
      " 'Toluene',\n",
      " 'Tributyl Borate',\n",
      " 'Tributyl Phosphate (TBP)',\n",
      " 'Tungsten',\n",
      " 'U',\n",
      " 'Uranium',\n",
      " 'Uranium Carbide',\n",
      " 'Uranium Dicarbide',\n",
      " 'Uranium Dioxide',\n",
      " 'Uranium Hexafluoride',\n",
      " 'Uranium Hydride',\n",
      " 'Uranium Nitride',\n",
      " 'Uranium Oxide',\n",
      " 'Uranium Tetrafluoride',\n",
      " 'Uranium Trioxide',\n",
      " 'Uranium, Depleted, Typical',\n",
      " 'Uranium, Enriched, Typical Commercial',\n",
      " 'Uranium, HEU, Health Physics Society',\n",
      " 'Uranium, HEU, Russian Average',\n",
      " 'Uranium, HEU, US Average',\n",
      " 'Uranium, Low Enriched (LEU)',\n",
      " 'Uranium, Natural (NU)',\n",
      " 'Uranium-Plutonium, Mixed Oxide (MOX)',\n",
      " 'Uranyl Fluoride',\n",
      " 'Uranyl Nitrate',\n",
      " 'V',\n",
      " 'Vanadium',\n",
      " 'Vermiculite, Exfoliated',\n",
      " 'Viton Fluoroelastomer',\n",
      " 'W',\n",
      " 'Water, Heavy',\n",
      " 'Water, Liquid',\n",
      " 'Water, Vapor',\n",
      " 'Wax, M3',\n",
      " 'Wax, Mix D',\n",
      " 'Wax, Paraffin',\n",
      " 'Wood (Southern Pine)',\n",
      " 'Xe',\n",
      " 'Xenon',\n",
      " 'Y',\n",
      " 'Yb',\n",
      " 'Ytterbium',\n",
      " 'Yttrium',\n",
      " 'Yttrium Aluminum Oxide - 1 atom% Cerium',\n",
      " 'Yttrium Aluminum Perovslite - 0.5 atom% Cerium',\n",
      " 'Zeolite (Natrolite)',\n",
      " 'Zinc',\n",
      " 'Zinc Selenide',\n",
      " 'Zinc Sulfide',\n",
      " 'Zircaloy-2',\n",
      " 'Zircaloy-4',\n",
      " 'Zirconium',\n",
      " 'Zirconium Hydride (Zr5H8)',\n",
      " 'Zirconium Hydride (ZrH2)',\n",
      " 'Zn',\n",
      " 'ZnS(Ag):LiF 95wt% 6Li PHOSPHOR POWDER Neutron Detectors',\n",
      " 'ZnS:Ag PHOSPHOR POWDER EJ-600 for Neutron Detectors',\n",
      " 'Zr']\n"
     ]
    }
   ],
   "source": [
    "mat_data = bq.materials.fetch_materials()\n",
    "pprint(list(mat_data.keys()))"
   ]
  },
  {
   "cell_type": "code",
   "execution_count": 36,
   "metadata": {},
   "outputs": [
    {
     "name": "stdout",
     "output_type": "stream",
     "text": [
      "{   'density': 0.001205,\n",
      "    'formula': '-',\n",
      "    'source': 'NIST '\n",
      "              '(http://physics.nist.gov/PhysRefData/XrayMassCoef/tab2.html)',\n",
      "    'weight_fractions': [   'C 0.000124',\n",
      "                            'N 0.755268',\n",
      "                            'O 0.231781',\n",
      "                            'Ar 0.012827']}\n"
     ]
    }
   ],
   "source": [
    "pprint(mat_data['Air, Dry (near sea level)'], indent=4)"
   ]
  },
  {
   "cell_type": "markdown",
   "metadata": {},
   "source": [
    "## 2.5 `bq.nndc`\n",
    "\n",
    "Tools to query the [National Nuclear Data Center databases](https://www.nndc.bnl.gov/nudat2/) to obtain decay radiation, branching ratios, and many other types of nuclear data.\n",
    "\n",
    "Further details and examples can be found in the [nndc notebook](./nndc.ipynb) and the [nndc_chart_of_nuclides notebook](./nndc_chart_of_nuclides.ipynb).\n",
    "\n",
    "Here are the gamma-ray lines above 5% branching ratio from Co-60:"
   ]
  },
  {
   "cell_type": "code",
   "execution_count": 37,
   "metadata": {},
   "outputs": [
    {
     "data": {
      "text/html": [
       "<div>\n",
       "<style scoped>\n",
       "    .dataframe tbody tr th:only-of-type {\n",
       "        vertical-align: middle;\n",
       "    }\n",
       "\n",
       "    .dataframe tbody tr th {\n",
       "        vertical-align: top;\n",
       "    }\n",
       "\n",
       "    .dataframe thead th {\n",
       "        text-align: right;\n",
       "    }\n",
       "</style>\n",
       "<table border=\"1\" class=\"dataframe\">\n",
       "  <thead>\n",
       "    <tr style=\"text-align: right;\">\n",
       "      <th></th>\n",
       "      <th>Z</th>\n",
       "      <th>Element</th>\n",
       "      <th>A</th>\n",
       "      <th>Decay Mode</th>\n",
       "      <th>Radiation</th>\n",
       "      <th>Radiation Energy (keV)</th>\n",
       "      <th>Radiation Intensity (%)</th>\n",
       "      <th>Energy Level (MeV)</th>\n",
       "    </tr>\n",
       "  </thead>\n",
       "  <tbody>\n",
       "    <tr>\n",
       "      <th>0</th>\n",
       "      <td>27</td>\n",
       "      <td>CO</td>\n",
       "      <td>60</td>\n",
       "      <td>IT</td>\n",
       "      <td>G</td>\n",
       "      <td>6.915</td>\n",
       "      <td>9.1+/-0.4</td>\n",
       "      <td>0.058603+/-0.000007</td>\n",
       "    </tr>\n",
       "    <tr>\n",
       "      <th>1</th>\n",
       "      <td>27</td>\n",
       "      <td>CO</td>\n",
       "      <td>60</td>\n",
       "      <td>IT</td>\n",
       "      <td>G</td>\n",
       "      <td>6.93</td>\n",
       "      <td>18.0+/-0.8</td>\n",
       "      <td>0.058603+/-0.000007</td>\n",
       "    </tr>\n",
       "    <tr>\n",
       "      <th>2</th>\n",
       "      <td>27</td>\n",
       "      <td>CO</td>\n",
       "      <td>60</td>\n",
       "      <td>B-</td>\n",
       "      <td>G</td>\n",
       "      <td>1173.2280+/-0.0030</td>\n",
       "      <td>99.850+/-0.030</td>\n",
       "      <td>0.0</td>\n",
       "    </tr>\n",
       "    <tr>\n",
       "      <th>3</th>\n",
       "      <td>27</td>\n",
       "      <td>CO</td>\n",
       "      <td>60</td>\n",
       "      <td>B-</td>\n",
       "      <td>G</td>\n",
       "      <td>1332.492+/-0.004</td>\n",
       "      <td>99.9826+/-0.0006</td>\n",
       "      <td>0.0</td>\n",
       "    </tr>\n",
       "  </tbody>\n",
       "</table>\n",
       "</div>"
      ],
      "text/plain": [
       "    Z Element   A Decay Mode Radiation Radiation Energy (keV)  \\\n",
       "0  27      CO  60         IT         G                  6.915   \n",
       "1  27      CO  60         IT         G                   6.93   \n",
       "2  27      CO  60         B-         G     1173.2280+/-0.0030   \n",
       "3  27      CO  60         B-         G       1332.492+/-0.004   \n",
       "\n",
       "  Radiation Intensity (%)   Energy Level (MeV)  \n",
       "0               9.1+/-0.4  0.058603+/-0.000007  \n",
       "1              18.0+/-0.8  0.058603+/-0.000007  \n",
       "2          99.850+/-0.030                  0.0  \n",
       "3        99.9826+/-0.0006                  0.0  "
      ]
     },
     "metadata": {},
     "output_type": "display_data"
    }
   ],
   "source": [
    "rad = bq.nndc.fetch_decay_radiation(nuc='Co-60', type='Gamma', i_range=(5, None))\n",
    "cols = ['Z', 'Element', 'A', 'Decay Mode', 'Radiation', 'Radiation Energy (keV)',\n",
    "        'Radiation Intensity (%)', 'Energy Level (MeV)']\n",
    "display(rad[cols])"
   ]
  },
  {
   "cell_type": "code",
   "execution_count": 38,
   "metadata": {},
   "outputs": [
    {
     "data": {
      "text/html": [
       "<div>\n",
       "<style scoped>\n",
       "    .dataframe tbody tr th:only-of-type {\n",
       "        vertical-align: middle;\n",
       "    }\n",
       "\n",
       "    .dataframe tbody tr th {\n",
       "        vertical-align: top;\n",
       "    }\n",
       "\n",
       "    .dataframe thead th {\n",
       "        text-align: right;\n",
       "    }\n",
       "</style>\n",
       "<table border=\"1\" class=\"dataframe\">\n",
       "  <thead>\n",
       "    <tr style=\"text-align: right;\">\n",
       "      <th></th>\n",
       "      <th>Z</th>\n",
       "      <th>Element</th>\n",
       "      <th>A</th>\n",
       "      <th>m</th>\n",
       "      <th>M</th>\n",
       "      <th>N</th>\n",
       "      <th>JPi</th>\n",
       "      <th>Energy Level (MeV)</th>\n",
       "      <th>Decay Mode</th>\n",
       "      <th>Branching (%)</th>\n",
       "      <th>Mass Excess (MeV)</th>\n",
       "      <th>T1/2 (txt)</th>\n",
       "      <th>T1/2 (s)</th>\n",
       "      <th>Abundance (%)</th>\n",
       "    </tr>\n",
       "  </thead>\n",
       "  <tbody>\n",
       "    <tr>\n",
       "      <th>0</th>\n",
       "      <td>19</td>\n",
       "      <td>K</td>\n",
       "      <td>37</td>\n",
       "      <td></td>\n",
       "      <td>0</td>\n",
       "      <td>18</td>\n",
       "      <td>3/2+</td>\n",
       "      <td>0.0</td>\n",
       "      <td>EC</td>\n",
       "      <td>100.00</td>\n",
       "      <td>-24.80020+/-0.00009</td>\n",
       "      <td>1.226 S 0.007</td>\n",
       "      <td>1.226000e+00</td>\n",
       "      <td>None</td>\n",
       "    </tr>\n",
       "    <tr>\n",
       "      <th>1</th>\n",
       "      <td>19</td>\n",
       "      <td>K</td>\n",
       "      <td>38</td>\n",
       "      <td></td>\n",
       "      <td>0</td>\n",
       "      <td>19</td>\n",
       "      <td>3+</td>\n",
       "      <td>0.0</td>\n",
       "      <td>EC</td>\n",
       "      <td>100.00</td>\n",
       "      <td>-28.80075+/-0.00020</td>\n",
       "      <td>7.636 M 0.018</td>\n",
       "      <td>4.581600e+02</td>\n",
       "      <td>None</td>\n",
       "    </tr>\n",
       "    <tr>\n",
       "      <th>2</th>\n",
       "      <td>19</td>\n",
       "      <td>K</td>\n",
       "      <td>39</td>\n",
       "      <td></td>\n",
       "      <td>0</td>\n",
       "      <td>20</td>\n",
       "      <td>3/2+</td>\n",
       "      <td>0.0</td>\n",
       "      <td></td>\n",
       "      <td>NaN</td>\n",
       "      <td>-33.807190+/-0.000005</td>\n",
       "      <td>STABLE</td>\n",
       "      <td>inf</td>\n",
       "      <td>93.258+/-0.004</td>\n",
       "    </tr>\n",
       "    <tr>\n",
       "      <th>3</th>\n",
       "      <td>19</td>\n",
       "      <td>K</td>\n",
       "      <td>40</td>\n",
       "      <td></td>\n",
       "      <td>0</td>\n",
       "      <td>21</td>\n",
       "      <td>4-</td>\n",
       "      <td>0.0</td>\n",
       "      <td>B-</td>\n",
       "      <td>89.28</td>\n",
       "      <td>-33.53549+/-0.00006</td>\n",
       "      <td>1.248E+9 Y 0.003E+9</td>\n",
       "      <td>3.938000e+16</td>\n",
       "      <td>0.01170+/-0.00010</td>\n",
       "    </tr>\n",
       "    <tr>\n",
       "      <th>4</th>\n",
       "      <td>19</td>\n",
       "      <td>K</td>\n",
       "      <td>40</td>\n",
       "      <td></td>\n",
       "      <td>0</td>\n",
       "      <td>21</td>\n",
       "      <td>4-</td>\n",
       "      <td>0.0</td>\n",
       "      <td>EC</td>\n",
       "      <td>10.72</td>\n",
       "      <td>-33.53549+/-0.00006</td>\n",
       "      <td>1.248E+9 Y 0.003E+9</td>\n",
       "      <td>3.938000e+16</td>\n",
       "      <td>0.01170+/-0.00010</td>\n",
       "    </tr>\n",
       "    <tr>\n",
       "      <th>5</th>\n",
       "      <td>19</td>\n",
       "      <td>K</td>\n",
       "      <td>41</td>\n",
       "      <td></td>\n",
       "      <td>0</td>\n",
       "      <td>22</td>\n",
       "      <td>3/2+</td>\n",
       "      <td>0.0</td>\n",
       "      <td></td>\n",
       "      <td>NaN</td>\n",
       "      <td>-35.559543+/-0.000004</td>\n",
       "      <td>STABLE</td>\n",
       "      <td>inf</td>\n",
       "      <td>6.730+/-0.004</td>\n",
       "    </tr>\n",
       "    <tr>\n",
       "      <th>6</th>\n",
       "      <td>19</td>\n",
       "      <td>K</td>\n",
       "      <td>42</td>\n",
       "      <td></td>\n",
       "      <td>0</td>\n",
       "      <td>23</td>\n",
       "      <td>2-</td>\n",
       "      <td>0.0</td>\n",
       "      <td>B-</td>\n",
       "      <td>100.00</td>\n",
       "      <td>-35.02203+/-0.00011</td>\n",
       "      <td>12.355 H 0.007</td>\n",
       "      <td>4.447800e+04</td>\n",
       "      <td>None</td>\n",
       "    </tr>\n",
       "    <tr>\n",
       "      <th>7</th>\n",
       "      <td>19</td>\n",
       "      <td>K</td>\n",
       "      <td>43</td>\n",
       "      <td></td>\n",
       "      <td>0</td>\n",
       "      <td>24</td>\n",
       "      <td>3/2+</td>\n",
       "      <td>0.0</td>\n",
       "      <td>B-</td>\n",
       "      <td>100.00</td>\n",
       "      <td>-36.5754+/-0.0004</td>\n",
       "      <td>22.3 H 0.1</td>\n",
       "      <td>8.028000e+04</td>\n",
       "      <td>None</td>\n",
       "    </tr>\n",
       "    <tr>\n",
       "      <th>8</th>\n",
       "      <td>19</td>\n",
       "      <td>K</td>\n",
       "      <td>44</td>\n",
       "      <td></td>\n",
       "      <td>0</td>\n",
       "      <td>25</td>\n",
       "      <td>2-</td>\n",
       "      <td>0.0</td>\n",
       "      <td>B-</td>\n",
       "      <td>100.00</td>\n",
       "      <td>-35.7815+/-0.0004</td>\n",
       "      <td>22.13 M 0.19</td>\n",
       "      <td>1.327800e+03</td>\n",
       "      <td>None</td>\n",
       "    </tr>\n",
       "  </tbody>\n",
       "</table>\n",
       "</div>"
      ],
      "text/plain": [
       "    Z Element   A m  M   N   JPi  Energy Level (MeV) Decay Mode  \\\n",
       "0  19       K  37    0  18  3/2+                 0.0         EC   \n",
       "1  19       K  38    0  19    3+                 0.0         EC   \n",
       "2  19       K  39    0  20  3/2+                 0.0              \n",
       "3  19       K  40    0  21    4-                 0.0         B-   \n",
       "4  19       K  40    0  21    4-                 0.0         EC   \n",
       "5  19       K  41    0  22  3/2+                 0.0              \n",
       "6  19       K  42    0  23    2-                 0.0         B-   \n",
       "7  19       K  43    0  24  3/2+                 0.0         B-   \n",
       "8  19       K  44    0  25    2-                 0.0         B-   \n",
       "\n",
       "   Branching (%)      Mass Excess (MeV)           T1/2 (txt)      T1/2 (s)  \\\n",
       "0         100.00    -24.80020+/-0.00009        1.226 S 0.007  1.226000e+00   \n",
       "1         100.00    -28.80075+/-0.00020        7.636 M 0.018  4.581600e+02   \n",
       "2            NaN  -33.807190+/-0.000005               STABLE           inf   \n",
       "3          89.28    -33.53549+/-0.00006  1.248E+9 Y 0.003E+9  3.938000e+16   \n",
       "4          10.72    -33.53549+/-0.00006  1.248E+9 Y 0.003E+9  3.938000e+16   \n",
       "5            NaN  -35.559543+/-0.000004               STABLE           inf   \n",
       "6         100.00    -35.02203+/-0.00011       12.355 H 0.007  4.447800e+04   \n",
       "7         100.00      -36.5754+/-0.0004           22.3 H 0.1  8.028000e+04   \n",
       "8         100.00      -35.7815+/-0.0004         22.13 M 0.19  1.327800e+03   \n",
       "\n",
       "       Abundance (%)  \n",
       "0               None  \n",
       "1               None  \n",
       "2     93.258+/-0.004  \n",
       "3  0.01170+/-0.00010  \n",
       "4  0.01170+/-0.00010  \n",
       "5      6.730+/-0.004  \n",
       "6               None  \n",
       "7               None  \n",
       "8               None  "
      ]
     },
     "metadata": {},
     "output_type": "display_data"
    }
   ],
   "source": [
    "# NNDC nuclear wallet cards are used by bq.Isotope but can be accessed directly like this:\n",
    "data = bq.nndc.fetch_wallet_card(\n",
    "    z_range=(19, 19),\n",
    "    a_range=(37, 44),\n",
    "    elevel_range=(0, 0),  # ground states only\n",
    ")\n",
    "display(data)"
   ]
  },
  {
   "cell_type": "markdown",
   "metadata": {},
   "source": [
    "## 2.6 `bq.xcom`\n",
    "\n",
    "The [NIST XCOM photon cross sections database](https://www.nist.gov/pml/xcom-photon-cross-sections-database) can be [queried](https://physics.nist.gov/PhysRefData/Xcom/html/xcom1.html) in `becquerel`.\n",
    "\n",
    "Further details can be found in the [xcom notebook](./xcom.ipynb)\n",
    "\n",
    "For example, here is how to access the cross section data for an element (Pb)"
   ]
  },
  {
   "cell_type": "code",
   "execution_count": 39,
   "metadata": {},
   "outputs": [
    {
     "data": {
      "image/png": "[encoded data removed]",
      "text/plain": [
       "<Figure size 432x288 with 1 Axes>"
      ]
     },
     "metadata": {
      "needs_background": "light"
     },
     "output_type": "display_data"
    }
   ],
   "source": [
    "# query XCOM by element symbol\n",
    "data = bq.xcom.fetch_xcom_data('Pb', e_range_kev=[10., 3000.])\n",
    "\n",
    "plt.figure()\n",
    "for field in ['total_w_coh', 'total_wo_coh', 'coherent', 'incoherent',\n",
    "              'photoelec', 'pair_nuc', 'pair_elec']:\n",
    "    plt.semilogy(data.energy, data[field], label=field)\n",
    "plt.xlim(0, 3000)\n",
    "plt.xlabel('Energy (keV)')\n",
    "plt.ylabel(r'Attenuation coefficient [cm$^2$/g]')\n",
    "plt.legend();"
   ]
  },
  {
   "cell_type": "code",
   "execution_count": null,
   "metadata": {},
   "outputs": [],
   "source": []
  }
 ],
 "metadata": {
  "kernelspec": {
   "display_name": "Python 3 (ipykernel)",
   "language": "python",
   "name": "python3"
  },
  "language_info": {
   "codemirror_mode": {
    "name": "ipython",
    "version": 3
   },
   "file_extension": ".py",
   "mimetype": "text/x-python",
   "name": "python",
   "nbconvert_exporter": "python",
   "pygments_lexer": "ipython3",
   "version": "3.8.12"
  }
 },
 "nbformat": 4,
 "nbformat_minor": 1
}
