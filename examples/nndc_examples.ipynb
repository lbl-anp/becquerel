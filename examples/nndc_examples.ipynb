{
 "cells": [
  {
   "cell_type": "markdown",
   "metadata": {},
   "source": [
    "# Various examples using the NNDC query tools\n",
    "\n",
    "First, import necessary tools."
   ]
  },
  {
   "cell_type": "code",
   "execution_count": 1,
   "metadata": {
    "collapsed": true
   },
   "outputs": [],
   "source": [
    "import numpy as np\n",
    "import pandas as pd\n",
    "pd.set_option('display.width', 200)\n",
    "from becquerel.tools import nndc"
   ]
  },
  {
   "cell_type": "markdown",
   "metadata": {},
   "source": [
    "## Example 1: Cesium-137\n",
    "\n",
    "### 1a: Look up the half-life of Cesium-137\n",
    "Fetch the \"wallet card\" data for Cs-137. The wallet card includes the Z, A, half-life, nuclear spin, etc."
   ]
  },
  {
   "cell_type": "code",
   "execution_count": 2,
   "metadata": {},
   "outputs": [
    {
     "name": "stdout",
     "output_type": "stream",
     "text": [
      "    Z Element    A m  M   N   JPi  Energy Level (MeV) Decay Mode  Branching (%) Abundance (%) Mass Excess (MeV)     T1/2 (s)    T1/2 (txt)\n",
      "0  55      Cs  137    0  82  7/2+                 0.0         B-          100.0          None           -87+/-4  949300000.0  30.08 Y 0.09\n",
      "\n",
      "949300000.0 s\n",
      "30.08150176185768 y\n"
     ]
    }
   ],
   "source": [
    "card = nndc.fetch_wallet_card(nuc='Cs-137')\n",
    "print(card)\n",
    "print('')\n",
    "t12 = max(card['T1/2 (s)'])\n",
    "print('{} s'.format(t12))\n",
    "print('{} y'.format(t12 / 3600 / 24 / 365.25))"
   ]
  },
  {
   "cell_type": "markdown",
   "metadata": {},
   "source": [
    "### 1b: Find the branching ratio of the 662 keV gamma-ray line of Cs-137\n",
    "Fetch the \"decay radiation\" data for the line at 662 keV. For gamma rays, the ```type``` keyword should be set to ```\"Gamma\"```."
   ]
  },
  {
   "cell_type": "code",
   "execution_count": 3,
   "metadata": {},
   "outputs": [
    {
     "name": "stdout",
     "output_type": "stream",
     "text": [
      "    Z Element    A   N   JPi Decay Mode Radiation Radiation subtype Radiation Energy (keV) Radiation Intensity (%) Daughter Dose (MeV / Bq / s) Endpoint Energy (keV)  Parent Energy Level (MeV)  \\\n",
      "0  55      CS  137  82  7/2+         B-         G                        661.6570+/-0.0030            85.10+/-0.20    137BA     0.5631+/-0.0013                  None                        0.0   \n",
      "\n",
      "      T1/2 (s) T1/2 (txt)  \n",
      "0  949300000.0  30.08 Y 9  \n",
      "\n",
      "661.66+/-0.00 keV line intensity: 85.10+/-0.20%\n"
     ]
    }
   ],
   "source": [
    "rad = nndc.fetch_decay_radiation(nuc='Cs-137', type='Gamma',\n",
    "                                 i_range=(1, None), e_range=(661, 663))\n",
    "print(rad)\n",
    "print('')\n",
    "print('{:.2f} keV line intensity: {}%'.format(\n",
    "    rad['Radiation Energy (keV)'][0],\n",
    "    rad['Radiation Intensity (%)'][0]))"
   ]
  },
  {
   "cell_type": "markdown",
   "metadata": {},
   "source": [
    "## Example 2: Barium-133\n",
    "\n",
    "### 2a: Fetch isotope data for Ba-133"
   ]
  },
  {
   "cell_type": "code",
   "execution_count": 4,
   "metadata": {},
   "outputs": [
    {
     "name": "stdout",
     "output_type": "stream",
     "text": [
      "    Z Element    A  m  M   N    JPi  Energy Level (MeV) Decay Mode  Branching (%) Abundance (%) Mass Excess (MeV)     T1/2 (s)      T1/2 (txt)\n",
      "0  56      Ba  133     0  77   1/2+              0.0000         EC         100.00          None          -88+/-10  333000000.0  10.551 Y 0.011\n",
      "1  56      Ba  133  m  1  77  11/2-              0.2883         IT          99.99          None          -87+/-10     140148.0     38.93 H 0.1\n",
      "2  56      Ba  133  m  1  77  11/2-              0.2883         EC           0.01          None          -87+/-10     140148.0     38.93 H 0.1\n"
     ]
    }
   ],
   "source": [
    "card = nndc.fetch_wallet_card(nuc='Ba-133')\n",
    "print(card)"
   ]
  },
  {
   "cell_type": "markdown",
   "metadata": {},
   "source": [
    "The basic query includes the 288 MeV excited state with a half-life of 39 hours. By using the ```elevel_range``` keyword we can query only the ground state:"
   ]
  },
  {
   "cell_type": "code",
   "execution_count": 5,
   "metadata": {},
   "outputs": [
    {
     "name": "stdout",
     "output_type": "stream",
     "text": [
      "    Z Element    A m  M   N   JPi  Energy Level (MeV) Decay Mode  Branching (%) Abundance (%) Mass Excess (MeV)     T1/2 (s)      T1/2 (txt)\n",
      "0  56      Ba  133    0  77  1/2+                 0.0         EC          100.0          None          -88+/-10  333000000.0  10.551 Y 0.011\n"
     ]
    }
   ],
   "source": [
    "card = nndc.fetch_wallet_card(nuc='Ba-133', elevel_range=(0, 0))\n",
    "print(card)"
   ]
  },
  {
   "cell_type": "markdown",
   "metadata": {},
   "source": [
    "### 2b: Find the main gamma-ray lines of Ba-133\n",
    "Next, find all gamma-rays for decays from the ground state of Ba-133 that are &ge;5% intensity. Use the ```i_range``` keyword to select a range of intensities."
   ]
  },
  {
   "cell_type": "code",
   "execution_count": 6,
   "metadata": {},
   "outputs": [
    {
     "name": "stdout",
     "output_type": "stream",
     "text": [
      "     Z Element    A Decay Mode Radiation Radiation Energy (keV) Radiation Intensity (%) Parent Energy Level (MeV)\n",
      "0   56      BA  133         IT         G                   4.47              16.4+/-0.8       0.288252+/-0.000009\n",
      "1   56      BA  133         IT         G                 31.817              15.1+/-0.4       0.288252+/-0.000009\n",
      "2   56      BA  133         IT         G                 32.194              27.6+/-0.6       0.288252+/-0.000009\n",
      "3   56      BA  133         IT         G                 36.378             5.10+/-0.11       0.288252+/-0.000009\n",
      "4   56      BA  133         IT         G        275.925+/-0.007                   17.69       0.288252+/-0.000009\n",
      "5   56      BA  133         EC         G                   4.29              15.7+/-0.8                         0\n",
      "6   56      BA  133         EC         G                 30.625              33.9+/-1.0                         0\n",
      "7   56      BA  133         EC         G                 30.973              62.2+/-1.8                         0\n",
      "8   56      BA  133         EC         G                  34.92             5.88+/-0.17                         0\n",
      "9   56      BA  133         EC         G                 34.987            11.40+/-0.30                         0\n",
      "10  56      BA  133         EC         G       80.9979+/-0.0011            32.90+/-0.30                         0\n",
      "11  56      BA  133         EC         G      276.3989+/-0.0012             7.16+/-0.05                         0\n",
      "12  56      BA  133         EC         G      302.8508+/-0.0005            18.34+/-0.13                         0\n",
      "13  56      BA  133         EC         G      356.0129+/-0.0007                   62.05                         0\n",
      "14  56      BA  133         EC         G      383.8485+/-0.0012             8.94+/-0.06                         0\n"
     ]
    }
   ],
   "source": [
    "rad = nndc.fetch_decay_radiation(nuc='Ba-133', type='Gamma', i_range=(5, None))\n",
    "cols = ['Z', 'Element', 'A', 'Decay Mode', 'Radiation', 'Radiation Energy (keV)',\n",
    "        'Radiation Intensity (%)', 'Parent Energy Level (MeV)']\n",
    "print(rad[cols])"
   ]
  },
  {
   "cell_type": "markdown",
   "metadata": {},
   "source": [
    "Once again, this query includes the short-lived excited state. For decay radiation queries, there is no ```elevel_range``` keyword available, so the ground state must be selected from the returned DataFrame:"
   ]
  },
  {
   "cell_type": "code",
   "execution_count": 7,
   "metadata": {},
   "outputs": [
    {
     "name": "stdout",
     "output_type": "stream",
     "text": [
      "     Z Element    A Decay Mode Radiation Radiation Energy (keV) Radiation Intensity (%) Parent Energy Level (MeV)\n",
      "5   56      BA  133         EC         G                   4.29              15.7+/-0.8                         0\n",
      "6   56      BA  133         EC         G                 30.625              33.9+/-1.0                         0\n",
      "7   56      BA  133         EC         G                 30.973              62.2+/-1.8                         0\n",
      "8   56      BA  133         EC         G                  34.92             5.88+/-0.17                         0\n",
      "9   56      BA  133         EC         G                 34.987            11.40+/-0.30                         0\n",
      "10  56      BA  133         EC         G       80.9979+/-0.0011            32.90+/-0.30                         0\n",
      "11  56      BA  133         EC         G      276.3989+/-0.0012             7.16+/-0.05                         0\n",
      "12  56      BA  133         EC         G      302.8508+/-0.0005            18.34+/-0.13                         0\n",
      "13  56      BA  133         EC         G      356.0129+/-0.0007                   62.05                         0\n",
      "14  56      BA  133         EC         G      383.8485+/-0.0012             8.94+/-0.06                         0\n"
     ]
    }
   ],
   "source": [
    "rad = rad[rad['Parent Energy Level (MeV)'] == 0]  # ground state only\n",
    "print(rad[cols])"
   ]
  },
  {
   "cell_type": "markdown",
   "metadata": {},
   "source": [
    "## Example 3: Hf-178 (multiple excited states)\n",
    "\n",
    "Look up the half-lives for the ground state and two excited states of Hf-178:"
   ]
  },
  {
   "cell_type": "code",
   "execution_count": 8,
   "metadata": {},
   "outputs": [
    {
     "name": "stdout",
     "output_type": "stream",
     "text": [
      "    Z Element    A   m  M    N  JPi  Energy Level (MeV) Decay Mode  Branching (%) Abundance (%) Mass Excess (MeV)      T1/2 (s) T1/2 (txt)\n",
      "0  72      Hf  178      0  106   0+              0.0000                       NaN  27.28+/-0.07          -52+/-14           inf     STABLE\n",
      "1  72      Hf  178  m1  1  106   8-              1.1474         IT          100.0          None          -51+/-14  4.000000e+00  4.0 S 0.2\n",
      "2  72      Hf  178  m2  2  106  16+              2.4461         IT          100.0          None          -50+/-14  9.783000e+08     31 Y 1\n"
     ]
    }
   ],
   "source": [
    "card = nndc.fetch_wallet_card(nuc='Hf-178')\n",
    "print(card)"
   ]
  },
  {
   "cell_type": "markdown",
   "metadata": {},
   "source": [
    "## Example 4: Uranium-235\n",
    "\n",
    "### 4a: Find the different types of decays of U-235\n",
    "This information is in the wallet card:"
   ]
  },
  {
   "cell_type": "code",
   "execution_count": 9,
   "metadata": {},
   "outputs": [
    {
     "name": "stdout",
     "output_type": "stream",
     "text": [
      "{'A', '28Mg', 'SF', '20Ne', '25Ne'}\n"
     ]
    }
   ],
   "source": [
    "card = nndc.fetch_wallet_card(nuc='U-235', elevel_range=(0, 0))\n",
    "print(set(card['Decay Mode']))"
   ]
  },
  {
   "cell_type": "markdown",
   "metadata": {},
   "source": [
    "### 4b: Find the main alpha lines for U-235"
   ]
  },
  {
   "cell_type": "code",
   "execution_count": 10,
   "metadata": {},
   "outputs": [
    {
     "name": "stdout",
     "output_type": "stream",
     "text": [
      "    Z Element    A Decay Mode Radiation Radiation Energy (keV) Radiation Intensity (%)  Parent Energy Level (MeV)\n",
      "0  92       U  235          A         A           4364.3+/-0.4            18.92+/-0.14                        0.0\n",
      "1  92       U  235          A         A           4395.4+/-0.4            57.73+/-0.24                        0.0\n"
     ]
    }
   ],
   "source": [
    "rad = nndc.fetch_decay_radiation(nuc='U-235', type='Alpha', i_range=(10, None))\n",
    "print(rad[cols])"
   ]
  },
  {
   "cell_type": "markdown",
   "metadata": {},
   "source": [
    "### 4c: Find the main gamma lines for U-235"
   ]
  },
  {
   "cell_type": "code",
   "execution_count": 11,
   "metadata": {},
   "outputs": [
    {
     "name": "stdout",
     "output_type": "stream",
     "text": [
      "    Z Element    A Decay Mode Radiation Radiation Energy (keV) Radiation Intensity (%)  Parent Energy Level (MeV)\n",
      "0  92       U  235          A         G                     13                  27+/-4                        0.0\n",
      "1  92       U  235          A         G           19.55+/-0.05                      63                        0.0\n",
      "2  92       U  235          A         G        143.760+/-0.020            10.96+/-0.14                        0.0\n",
      "3  92       U  235          A         G        185.715+/-0.005              57.0+/-0.6                        0.0\n"
     ]
    }
   ],
   "source": [
    "rad = nndc.fetch_decay_radiation(nuc='U-235', type='Gamma', i_range=(10, None))\n",
    "print(rad[cols])"
   ]
  },
  {
   "cell_type": "markdown",
   "metadata": {},
   "source": [
    "## Example 5: Pa-234m\n",
    "\n",
    "### Look up the 1001 keV gamma-ray line from the decay of Pa-234m\n",
    "Requires searching for decays from an excited state of a nucleus. First query the decay radiation for the isotope, then select on the ```\"Parent Energy Level (MeV)\"```."
   ]
  },
  {
   "cell_type": "code",
   "execution_count": 12,
   "metadata": {},
   "outputs": [
    {
     "name": "stdout",
     "output_type": "stream",
     "text": [
      "    Z Element    A Decay Mode Radiation Radiation Energy (keV) Radiation Intensity (%)  Parent Energy Level (MeV)\n",
      "0  91      PA  234         B-         G         1001.03+/-0.10           0.842+/-0.008                    0.07392\n"
     ]
    }
   ],
   "source": [
    "rad = nndc.fetch_decay_radiation(nuc='Pa-234', type='Gamma', e_range=(999, 1002))\n",
    "rad = rad[rad['Parent Energy Level (MeV)'] > 0]  # excited state ~73 MeV\n",
    "print(rad[cols])"
   ]
  },
  {
   "cell_type": "markdown",
   "metadata": {},
   "source": [
    "## Example 6: Find long-lived isotopes with gamma-ray lines at 1461 keV\n",
    "Are there any others besides K-40? Use the ```t_range``` keyword to look for any other isotopes with half-lives greater than 1E9 seconds."
   ]
  },
  {
   "cell_type": "code",
   "execution_count": 13,
   "metadata": {},
   "outputs": [
    {
     "name": "stdout",
     "output_type": "stream",
     "text": [
      "    Z Element   A Decay Mode Radiation Radiation Energy (keV) Radiation Intensity (%)  Parent Energy Level (MeV)\n",
      "0  19       K  40         EC         G       1460.820+/-0.005            10.66+/-0.17                        0.0\n"
     ]
    }
   ],
   "source": [
    "rad = nndc.fetch_decay_radiation(t_range=[1e9, None], type='Gamma', e_range=[1460, 1462])\n",
    "print(rad[cols])"
   ]
  },
  {
   "cell_type": "markdown",
   "metadata": {},
   "source": [
    "## Example 7: Find isotopes with lines at 661.7 keV for 120 &le; A &le; 160\n",
    "\n",
    "This is similar to the last example, but this one shows how to use the ```a_range``` keyword."
   ]
  },
  {
   "cell_type": "code",
   "execution_count": 14,
   "metadata": {},
   "outputs": [
    {
     "name": "stdout",
     "output_type": "stream",
     "text": [
      "     Z Element    A Decay Mode Radiation Radiation Energy (keV) Radiation Intensity (%) Parent Energy Level (MeV)\n",
      "0   53       I  120         EC         G          662.10+/-0.30             1.05+/-0.04                         0\n",
      "1   54      XE  121         EC        BP                662+/-5             0.48+/-0.08                         0\n",
      "2   55      CS  137         B-         G      661.6570+/-0.0030            85.10+/-0.20                         0\n",
      "3   55      CS  143         B-         G          662.10+/-0.10               3.0+/-0.5                         0\n",
      "5   57      LA  144         B-        BM               662+/-25             0.63+/-0.13                         0\n",
      "6   61      PM  139         EC        BP               662+/-14           0.110+/-0.030                         0\n",
      "7   61      PM  139         EC         G            661.3+/-0.4             0.41+/-0.08                         0\n",
      "8   61      PM  152         B-         G            661.7+/-0.4           0.240+/-0.030                         0\n",
      "9   61      PM  154         B-         G          661.70+/-0.30                    0.14                         0\n",
      "10  67      HO  157         EC         G          661.90+/-0.10             0.32+/-0.05                         0\n"
     ]
    }
   ],
   "source": [
    "rad = nndc.fetch_decay_radiation(a_range=[120, 160], e_range=[661.2, 662.2], i_range=[0.1, None])\n",
    "rad = rad[rad['Parent Energy Level (MeV)'] == 0]  # ground states only\n",
    "print(rad[cols])"
   ]
  },
  {
   "cell_type": "markdown",
   "metadata": {},
   "source": [
    "## Example 8: Find long-lived isotopes with lines at 186 keV\n",
    "Famously, Ra-226 and U-235 have a similar gamma-ray line here."
   ]
  },
  {
   "cell_type": "code",
   "execution_count": 15,
   "metadata": {},
   "outputs": [
    {
     "name": "stdout",
     "output_type": "stream",
     "text": [
      "    Z Element    A Decay Mode Radiation Radiation Energy (keV) Radiation Intensity (%)  Parent Energy Level (MeV)\n",
      "0  88      RA  226          A         G        186.211+/-0.013             3.64+/-0.04                        0.0\n",
      "1  92       U  235          A         G        185.715+/-0.005              57.0+/-0.6                        0.0\n"
     ]
    }
   ],
   "source": [
    "rad = nndc.fetch_decay_radiation(e_range=[185, 187], i_range=(1, None), t_range=(1e10, None))\n",
    "rad = rad[rad['Parent Energy Level (MeV)'] == 0]  # ground states only\n",
    "print(rad[cols])"
   ]
  },
  {
   "cell_type": "markdown",
   "metadata": {},
   "source": [
    "## Example 9: Find even- and odd-A isotopes of Hydrogen\n",
    "\n",
    "You can use the ```a_even``` and ```a_odd``` keywords to select only even or odd ```a``` values. There are equivalents for ```z``` and ```n``` as well."
   ]
  },
  {
   "cell_type": "code",
   "execution_count": 16,
   "metadata": {},
   "outputs": [
    {
     "name": "stdout",
     "output_type": "stream",
     "text": [
      "   Z Element  A  Abundance (%)      T1/2 (s)\n",
      "0  1       H  2  0.011+/-0.007           inf\n",
      "1  1       H  4           None           NaN\n",
      "2  1       H  6           None  2.848000e-22\n"
     ]
    }
   ],
   "source": [
    "evens = nndc.fetch_wallet_card(z=1, a_even=True, elevel_range=(0, 0))\n",
    "print(evens[['Z', 'Element', 'A', 'Abundance (%)', 'T1/2 (s)']])"
   ]
  },
  {
   "cell_type": "code",
   "execution_count": 17,
   "metadata": {},
   "outputs": [
    {
     "name": "stdout",
     "output_type": "stream",
     "text": [
      "   Z Element  A   Abundance (%)      T1/2 (s)\n",
      "0  1       H  1  99.989+/-0.007           inf\n",
      "1  1       H  3            None  3.888000e+08\n",
      "2  1       H  5            None  7.995000e-23\n"
     ]
    }
   ],
   "source": [
    "odds = nndc.fetch_wallet_card(z=1, a_odd=True, elevel_range=(0, 0))\n",
    "print(odds[['Z', 'Element', 'A', 'Abundance (%)', 'T1/2 (s)']])"
   ]
  },
  {
   "cell_type": "markdown",
   "metadata": {},
   "source": [
    "## Example 10: Uranium-238\n",
    "\n",
    "### 10a: Find all significant U-238 series gamma-ray lines\n",
    "\n",
    "First we will define a function:"
   ]
  },
  {
   "cell_type": "code",
   "execution_count": 18,
   "metadata": {
    "collapsed": true
   },
   "outputs": [],
   "source": [
    "def series_radiation(isotopes, rtype='Gamma', emin=30., imin=0.7, branchings=None):\n",
    "    \"\"\"Return a DataFrame of all the gammas from the decay series.\"\"\"\n",
    "    df_series = pd.DataFrame()\n",
    "    if branchings is None:\n",
    "        branchings = np.ones_like(isotopes)\n",
    "    assert len(isotopes) == len(branchings)\n",
    "    for isotope, branching in zip(isotopes, branchings):\n",
    "        print(isotope, branching)\n",
    "        isotope_id = isotope\n",
    "        if isotope.endswith('m'):\n",
    "            isotope_id = isotope[:-1]\n",
    "        df = nndc.fetch_decay_radiation(nuc=isotope_id, type=rtype, e_range=(emin, 1e4), i_range=(imin, None))\n",
    "        if isotope.endswith('m'):\n",
    "            df = df.loc[df['Parent Energy Level (MeV)'] > 0.]\n",
    "        else:\n",
    "            df = df.loc[df['Parent Energy Level (MeV)'] == 0.]\n",
    "        df['Radiation Intensity (%)'] *= float(branching)\n",
    "        if len(df) == 0:\n",
    "            continue\n",
    "        df_series = df_series.append(df)\n",
    "    return df_series"
   ]
  },
  {
   "cell_type": "markdown",
   "metadata": {},
   "source": [
    "Now let's run this function on the U-238 series:"
   ]
  },
  {
   "cell_type": "code",
   "execution_count": 19,
   "metadata": {},
   "outputs": [
    {
     "name": "stdout",
     "output_type": "stream",
     "text": [
      "U-238 1\n",
      "Th-234 1\n",
      "Pa-234m 1\n",
      "U-234 1\n",
      "Th-230 1\n",
      "Ra-226 1\n",
      "Rn-222 1\n",
      "Po-218 1\n",
      "Pb-214 1\n",
      "Bi-214 1\n",
      "Po-214 1\n",
      "Pb-210 1\n",
      "Bi-210 1\n",
      "Po-210 1\n",
      "     Z Element    A Decay Mode Radiation Radiation subtype Radiation Energy (keV) Radiation Intensity (%) Daughter\n",
      "0   82      PB  210         B-         G                         46.5390+/-0.0010             4.25+/-0.04    210BI\n",
      "0   82      PB  214         B-         G                         53.2284+/-0.0018           1.075+/-0.007    214BI\n",
      "0   90      TH  234         B-         G                           63.290+/-0.020               3.7+/-0.4    234PA\n",
      "1   82      PB  214         B-         G            XR ka2                 74.815             5.80+/-0.30    214BI\n",
      "2   82      PB  214         B-         G            XR ka1                 77.107               9.7+/-0.5    214BI\n",
      "0   83      BI  214         B-         G            XR ka1                  79.29           0.907+/-0.023    214PO\n",
      "3   82      PB  214         B-         G            XR kb3                  86.83             1.17+/-0.06    214BI\n",
      "4   82      PB  214         B-         G            XR kb1                 87.349             2.24+/-0.11    214BI\n",
      "5   82      PB  214         B-         G            XR kb2                 89.784             0.82+/-0.04    214BI\n",
      "1   90      TH  234         B-         G                           92.380+/-0.010             2.13+/-0.20    234PA\n",
      "2   90      TH  234         B-         G                           92.800+/-0.020             2.10+/-0.20    234PA\n",
      "0   88      RA  226          A         G                          186.211+/-0.013             3.64+/-0.04    222RN\n",
      "6   82      PB  214         B-         G                        241.9950+/-0.0023           7.251+/-0.016    214BI\n",
      "7   82      PB  214         B-         G                        295.2228+/-0.0018            18.42+/-0.04    214BI\n",
      "8   82      PB  214         B-         G                        351.9321+/-0.0018            35.60+/-0.07    214BI\n",
      "1   83      BI  214         B-         G                          609.320+/-0.005            45.49+/-0.16    214PO\n",
      "2   83      BI  214         B-         G                          665.447+/-0.009           1.531+/-0.006    214PO\n",
      "3   83      BI  214         B-         G                          768.360+/-0.005           4.894+/-0.011    214PO\n",
      "9   82      PB  214         B-         G                            785.96+/-0.08           1.060+/-0.030    214BI\n",
      "4   83      BI  214         B-         G                          806.180+/-0.009           1.264+/-0.005    214PO\n",
      "5   83      BI  214         B-         G                          934.056+/-0.006           3.107+/-0.010    214PO\n",
      "0   91      PA  234         B-         G                           1001.03+/-0.10           0.842+/-0.008     234U\n",
      "6   83      BI  214         B-         G                         1120.294+/-0.006          14.920+/-0.030    214PO\n",
      "7   83      BI  214         B-         G                         1155.210+/-0.008           1.633+/-0.006    214PO\n",
      "8   83      BI  214         B-         G                         1238.122+/-0.007           5.834+/-0.015    214PO\n",
      "9   83      BI  214         B-         G                         1280.976+/-0.010           1.434+/-0.006    214PO\n",
      "10  83      BI  214         B-         G                         1377.669+/-0.008           3.988+/-0.011    214PO\n",
      "11  83      BI  214         B-         G                         1385.310+/-0.013           0.793+/-0.005    214PO\n",
      "12  83      BI  214         B-         G                         1401.515+/-0.012           1.330+/-0.005    214PO\n",
      "13  83      BI  214         B-         G                         1407.988+/-0.011           2.394+/-0.007    214PO\n",
      "14  83      BI  214         B-         G                         1509.210+/-0.010           2.130+/-0.010    214PO\n",
      "15  83      BI  214         B-         G                         1583.204+/-0.015           0.705+/-0.005    214PO\n",
      "16  83      BI  214         B-         G                         1661.274+/-0.016           1.047+/-0.006    214PO\n",
      "17  83      BI  214         B-         G                         1729.595+/-0.011           2.878+/-0.008    214PO\n",
      "18  83      BI  214         B-         G                         1764.491+/-0.010          15.300+/-0.030    214PO\n",
      "19  83      BI  214         B-         G                         1847.429+/-0.013           2.025+/-0.009    214PO\n",
      "20  83      BI  214         B-         G                         2118.514+/-0.019           1.160+/-0.006    214PO\n",
      "21  83      BI  214         B-         G                         2204.059+/-0.022           4.924+/-0.018    214PO\n",
      "22  83      BI  214         B-         G                         2447.700+/-0.030           1.548+/-0.007    214PO\n"
     ]
    }
   ],
   "source": [
    "series = ['U-238', 'Th-234', 'Pa-234m', 'U-234',\n",
    "          'Th-230', 'Ra-226', 'Rn-222', 'Po-218',\n",
    "          'Pb-214', 'Bi-214', 'Po-214', 'Pb-210',\n",
    "          'Bi-210', 'Po-210']\n",
    "gammas = series_radiation(series)\n",
    "gammas.sort_values(by='Radiation Energy (keV)', inplace=True)\n",
    "fields = ['Z', 'Element', 'A', 'Decay Mode',\n",
    "          'Radiation', 'Radiation subtype',\n",
    "          'Radiation Energy (keV)', 'Radiation Intensity (%)',\n",
    "          'Daughter']\n",
    "print(gammas[fields])"
   ]
  },
  {
   "cell_type": "markdown",
   "metadata": {},
   "source": [
    "### 10b: Find all significant U-238 alpha lines"
   ]
  },
  {
   "cell_type": "code",
   "execution_count": 20,
   "metadata": {},
   "outputs": [
    {
     "name": "stdout",
     "output_type": "stream",
     "text": [
      "U-238 1\n",
      "Th-234 1\n",
      "Pa-234m 1\n",
      "U-234 1\n",
      "Th-230 1\n",
      "Ra-226 1\n",
      "Rn-222 1\n",
      "Po-218 1\n",
      "Pb-214 1\n",
      "Bi-214 1\n",
      "Po-214 1\n",
      "Pb-210 1\n",
      "Bi-210 1\n",
      "Po-210 1\n",
      "    Z Element    A Decay Mode Radiation Radiation subtype Radiation Energy (keV) Radiation Intensity (%) Daughter\n",
      "0  92       U  238          A         A                                 4151+/-5              21.0+/-3.0    234TH\n",
      "1  92       U  238          A         A                             4198.0+/-3.0              79.0+/-3.0    234TH\n",
      "0  88      RA  226          A         A                             4601.0+/-1.0           6.160+/-0.030    222RN\n",
      "0  90      TH  230          A         A                             4620.5+/-1.5            23.40+/-0.10    226RA\n",
      "1  90      TH  230          A         A                             4687.0+/-1.5            76.30+/-0.30    226RA\n",
      "0  92       U  234          A         A                             4722.4+/-1.4            28.42+/-0.09    230TH\n",
      "1  92       U  234          A         A                             4774.6+/-1.4            71.38+/-0.16    230TH\n",
      "1  88      RA  226          A         A                           4784.34+/-0.25            93.84+/-0.11    222RN\n",
      "0  84      PO  210          A         A                           5304.33+/-0.07                     100    206PB\n",
      "0  86      RN  222          A         A                           5489.48+/-0.30          99.920+/-0.010    218PO\n",
      "0  84      PO  218          A         A                           6002.35+/-0.09        99.9789+/-0.0023    214PB\n",
      "0  84      PO  214          A         A                           7686.82+/-0.07        99.9895+/-0.0006    210PB\n"
     ]
    }
   ],
   "source": [
    "alphas = series_radiation(series, rtype='Alpha')\n",
    "alphas.sort_values(by='Radiation Energy (keV)', inplace=True)\n",
    "print(alphas[fields])"
   ]
  },
  {
   "cell_type": "markdown",
   "metadata": {},
   "source": [
    "### 10c: Find all significant Th-232 series gamma-ray lines\n",
    "\n",
    "Unlike the U-238 series, we need to provide branching ratios to account for the decay of Bi-212 into either Po-212 or Tl-208."
   ]
  },
  {
   "cell_type": "code",
   "execution_count": 21,
   "metadata": {},
   "outputs": [
    {
     "name": "stdout",
     "output_type": "stream",
     "text": [
      "Th-232 1\n",
      "Ra-228 1\n",
      "Ac-228 1\n",
      "Th-228 1\n",
      "Ra-224 1\n",
      "Rn-220 1\n",
      "Po-216 1\n",
      "Pb-212 1\n",
      "Bi-212 1\n",
      "Po-212 0.6406\n",
      "Tl-208 0.3594\n",
      "     Z Element    A Decay Mode Radiation Radiation subtype Radiation Energy (keV) Radiation Intensity (%) Daughter\n",
      "0   83      BI  212          A         G                           39.857+/-0.004             1.06+/-0.09    208TL\n",
      "0   81      TL  208         B-         G            XR ka2                 72.805           0.722+/-0.022    208PB\n",
      "0   82      PB  212         B-         G            XR ka2                 74.815            10.28+/-0.25    212BI\n",
      "1   81      TL  208         B-         G            XR ka1                 74.969           1.204+/-0.032    208PB\n",
      "1   82      PB  212         B-         G            XR ka1                 77.107              17.1+/-0.4    212BI\n",
      "0   90      TH  228          A         G                         84.3730+/-0.0030             1.19+/-0.04    224RA\n",
      "2   81      TL  208         B-         G            XR kb1                 84.938           0.279+/-0.008    208PB\n",
      "2   82      PB  212         B-         G            XR kb3                  86.83             2.07+/-0.05    212BI\n",
      "3   82      PB  212         B-         G            XR kb1                 87.349             3.97+/-0.09    212BI\n",
      "4   82      PB  212         B-         G            XR kb2                 89.784           1.460+/-0.030    212BI\n",
      "0   89      AC  228         B-         G            XR ka2                 89.957             1.90+/-0.30    228TH\n",
      "1   89      AC  228         B-         G            XR ka1                  93.35               3.1+/-0.4    228TH\n",
      "2   89      AC  228         B-         G                           99.509+/-0.006             1.26+/-0.07    228TH\n",
      "3   89      AC  228         B-         G            XR kb1                105.604             0.74+/-0.10    228TH\n",
      "4   89      AC  228         B-         G                        129.0650+/-0.0010             2.42+/-0.09    228TH\n",
      "5   89      AC  228         B-         G                          153.977+/-0.010           0.722+/-0.021    228TH\n",
      "6   89      AC  228         B-         G                          209.253+/-0.006             3.89+/-0.07    228TH\n",
      "7   89      AC  228         B-         G                            214.85+/-0.05             0.76+/-0.11    228TH\n",
      "5   82      PB  212         B-         G                        238.6320+/-0.0020              43.6+/-0.5    212BI\n",
      "0   88      RA  224          A         G                          240.986+/-0.006             4.10+/-0.05    220RN\n",
      "3   81      TL  208         B-         G                            252.61+/-0.10           0.280+/-0.007    208PB\n",
      "8   89      AC  228         B-         G                        270.2450+/-0.0020             3.46+/-0.06    228TH\n",
      "4   81      TL  208         B-         G                          277.371+/-0.005             2.37+/-0.11    208PB\n",
      "6   82      PB  212         B-         G                          300.087+/-0.010             3.30+/-0.04    212BI\n",
      "9   89      AC  228         B-         G                          328.000+/-0.006             2.95+/-0.12    228TH\n",
      "10  89      AC  228         B-         G                        338.3200+/-0.0030            11.27+/-0.19    228TH\n",
      "11  89      AC  228         B-         G                          409.462+/-0.006             1.92+/-0.04    228TH\n",
      "12  89      AC  228         B-         G                          463.004+/-0.006             4.40+/-0.07    228TH\n",
      "5   81      TL  208         B-         G                            510.77+/-0.10             8.12+/-0.07    208PB\n",
      "13  89      AC  228         B-         G                          562.500+/-0.004           0.870+/-0.030    228TH\n",
      "6   81      TL  208         B-         G                        583.1870+/-0.0020            30.55+/-0.11    208PB\n",
      "14  89      AC  228         B-         G                                   674.75               2.1+/-0.7    228TH\n",
      "1   83      BI  212         B-         G                          727.330+/-0.009             6.67+/-0.09    212PO\n",
      "15  89      AC  228         B-         G                          755.315+/-0.004           1.000+/-0.030    228TH\n",
      "7   81      TL  208         B-         G                            763.13+/-0.08           0.643+/-0.011    208PB\n",
      "16  89      AC  228         B-         G                          772.291+/-0.005           1.490+/-0.030    228TH\n",
      "2   83      BI  212         B-         G                            785.37+/-0.08           1.102+/-0.013    212PO\n",
      "17  89      AC  228         B-         G                          794.947+/-0.005             4.25+/-0.07    228TH\n",
      "18  89      AC  228         B-         G                          835.710+/-0.006             1.61+/-0.06    228TH\n",
      "19  89      AC  228         B-         G                          840.377+/-0.007             0.91+/-0.04    228TH\n",
      "8   81      TL  208         B-         G                          860.557+/-0.004             4.49+/-0.04    208PB\n",
      "20  89      AC  228         B-         G                            904.20+/-0.04           0.770+/-0.030    228TH\n",
      "21  89      AC  228         B-         G                          911.204+/-0.004              25.8+/-0.4    228TH\n",
      "22  89      AC  228         B-         G                          964.766+/-0.010             4.99+/-0.09    228TH\n",
      "23  89      AC  228         B-         G                          968.971+/-0.017            15.80+/-0.30    228TH\n",
      "24  89      AC  228         B-         G                         1459.138+/-0.015             0.83+/-0.08    228TH\n",
      "25  89      AC  228         B-         G                         1495.910+/-0.020             0.86+/-0.04    228TH\n",
      "26  89      AC  228         B-         G                         1588.200+/-0.030             3.22+/-0.08    228TH\n",
      "3   83      BI  212         B-         G                           1620.50+/-0.10           1.470+/-0.030    212PO\n",
      "27  89      AC  228         B-         G                         1630.627+/-0.010             1.51+/-0.04    228TH\n",
      "9   81      TL  208         B-         G                         2614.511+/-0.010        35.8516+/-0.0014    208PB\n"
     ]
    }
   ],
   "source": [
    "series = ['Th-232', 'Ra-228', 'Ac-228', 'Th-228',\n",
    "          'Ra-224', 'Rn-220', 'Po-216', 'Pb-212',\n",
    "          'Bi-212', 'Po-212', 'Tl-208']\n",
    "branchings = [1, 1, 1, 1,\n",
    "              1, 1, 1, 1,\n",
    "              1, 0.6406, 0.3594]\n",
    "gammas = series_radiation(series, branchings=branchings)\n",
    "gammas.sort_values(by='Radiation Energy (keV)', inplace=True)\n",
    "fields = ['Z', 'Element', 'A', 'Decay Mode',\n",
    "          'Radiation', 'Radiation subtype',\n",
    "          'Radiation Energy (keV)', 'Radiation Intensity (%)',\n",
    "          'Daughter']\n",
    "print(gammas[fields])"
   ]
  },
  {
   "cell_type": "markdown",
   "metadata": {},
   "source": [
    "### 10d: Find all significant Th-232 alpha lines"
   ]
  },
  {
   "cell_type": "code",
   "execution_count": 22,
   "metadata": {},
   "outputs": [
    {
     "name": "stdout",
     "output_type": "stream",
     "text": [
      "Th-232 1\n",
      "Ra-228 1\n",
      "Ac-228 1\n",
      "Th-228 1\n",
      "Ra-224 1\n",
      "Rn-220 1\n",
      "Po-216 1\n",
      "Pb-212 1\n",
      "Bi-212 1\n",
      "Po-212 0.6406\n",
      "Tl-208 0.3594\n",
      "    Z Element    A Decay Mode Radiation Radiation subtype Radiation Energy (keV) Radiation Intensity (%) Daughter\n",
      "0  90      TH  232          A         A                             3947.2+/-2.0              21.7+/-1.3    228RA\n",
      "1  90      TH  232          A         A                             4012.3+/-1.4              78.2+/-1.3    228RA\n",
      "0  90      TH  228          A         A                           5340.36+/-0.15              26.0+/-1.0    224RA\n",
      "1  90      TH  228          A         A                           5423.15+/-0.22              73.4+/-0.5    224RA\n",
      "0  88      RA  224          A         A                             5448.6+/-1.2             5.06+/-0.05    220RN\n",
      "1  88      RA  224          A         A                           5685.37+/-0.15            94.92+/-0.05    220RN\n",
      "3  83      BI  212          A         A                         6050.780+/-0.030            25.13+/-0.07    208TL\n",
      "4  83      BI  212          A         A                         6089.880+/-0.030             9.75+/-0.05    208TL\n",
      "0  86      RN  220          A         A                           6288.08+/-0.10          99.886+/-0.017    216PO\n",
      "0  84      PO  216          A         A                             6778.3+/-0.5      99.99810+/-0.00030    212PB\n",
      "0  84      PO  212          A         A                           8784.86+/-0.12                   64.06    208PB\n"
     ]
    }
   ],
   "source": [
    "alphas = series_radiation(series, branchings=branchings, rtype='Alpha')\n",
    "alphas.sort_values(by='Radiation Energy (keV)', inplace=True)\n",
    "print(alphas[fields])"
   ]
  },
  {
   "cell_type": "code",
   "execution_count": null,
   "metadata": {
    "collapsed": true
   },
   "outputs": [],
   "source": []
  }
 ],
 "metadata": {
  "kernelspec": {
   "display_name": "Python 3",
   "language": "python",
   "name": "python3"
  },
  "language_info": {
   "codemirror_mode": {
    "name": "ipython",
    "version": 3
   },
   "file_extension": ".py",
   "mimetype": "text/x-python",
   "name": "python",
   "nbconvert_exporter": "python",
   "pygments_lexer": "ipython3",
   "version": "3.6.1"
  }
 },
 "nbformat": 4,
 "nbformat_minor": 2
}
